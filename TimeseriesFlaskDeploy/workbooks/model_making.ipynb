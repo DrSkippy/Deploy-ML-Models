{
 "cells": [
  {
   "cell_type": "markdown",
   "id": "d07f3818",
   "metadata": {},
   "source": [
    "## Simple Time Series Prediction model with Prophet\n",
    "### Scott Hendrickson\n"
   ]
  },
  {
   "cell_type": "code",
   "execution_count": null,
   "id": "f77e6d42",
   "metadata": {},
   "outputs": [],
   "source": [
    "import pandas as pd\n",
    "\n",
    "from prophet import Prophet\n",
    "from prophet.diagnostics import performance_metrics\n",
    "from prophet.diagnostics import cross_validation\n",
    "\n",
    "from matplotlib import pyplot as plt\n",
    "%matplotlib inline"
   ]
  },
  {
   "cell_type": "markdown",
   "id": "2347f9af",
   "metadata": {},
   "source": [
    "## Canonical Example for Prophet Website"
   ]
  },
  {
   "cell_type": "code",
   "execution_count": null,
   "id": "9d4fb749",
   "metadata": {},
   "outputs": [],
   "source": [
    "!ls ../data\n",
    "df = pd.read_csv('../data/example_wp_log_peyton_manning.csv')\n",
    "df.head()"
   ]
  },
  {
   "cell_type": "markdown",
   "id": "43869bd8",
   "metadata": {},
   "source": [
    "### Many options, but a basic prophet model on daily data does the obvious seasonality detection"
   ]
  },
  {
   "cell_type": "code",
   "execution_count": null,
   "id": "c7193c71",
   "metadata": {},
   "outputs": [],
   "source": [
    "m = Prophet()\n",
    "m.fit(df)"
   ]
  },
  {
   "cell_type": "markdown",
   "id": "1926b8db",
   "metadata": {},
   "source": [
    "### Even has a utility to create a data frame with historical and future predictions"
   ]
  },
  {
   "cell_type": "code",
   "execution_count": null,
   "id": "182fbcff",
   "metadata": {},
   "outputs": [],
   "source": [
    "future = m.make_future_dataframe(periods=365)\n",
    "future.tail()"
   ]
  },
  {
   "cell_type": "code",
   "execution_count": null,
   "id": "ffe8e099",
   "metadata": {},
   "outputs": [],
   "source": [
    "forecast = m.predict(future)\n",
    "forecast[['ds', 'yhat', 'yhat_lower', 'yhat_upper']].tail()"
   ]
  },
  {
   "cell_type": "code",
   "execution_count": null,
   "id": "fd014379",
   "metadata": {},
   "outputs": [],
   "source": [
    "fig1 = m.plot(forecast, figsize=[15,10])"
   ]
  },
  {
   "cell_type": "code",
   "execution_count": null,
   "id": "3019fc37",
   "metadata": {},
   "outputs": [],
   "source": [
    "fig2 = m.plot_components(forecast, figsize=[15,15])"
   ]
  },
  {
   "cell_type": "markdown",
   "id": "764bb84f",
   "metadata": {},
   "source": [
    "## Get an idea of prediction quality using cross-validation"
   ]
  },
  {
   "cell_type": "code",
   "execution_count": null,
   "id": "1cafb8d0",
   "metadata": {},
   "outputs": [],
   "source": [
    "df_cv = cross_validation(m, initial='730 days', period='365 days', horizon = '365 days')"
   ]
  },
  {
   "cell_type": "code",
   "execution_count": null,
   "id": "2518b77d",
   "metadata": {},
   "outputs": [],
   "source": [
    "df_p = performance_metrics(df_cv)\n",
    "print(len(df))\n",
    "df_p.head(10)"
   ]
  },
  {
   "cell_type": "markdown",
   "id": "d9b271a7",
   "metadata": {},
   "source": [
    "# Deploy and Use Model"
   ]
  },
  {
   "cell_type": "code",
   "execution_count": null,
   "id": "72a0fcc6",
   "metadata": {},
   "outputs": [],
   "source": [
    "import requests\n",
    "import json\n",
    "import pandas as pd"
   ]
  },
  {
   "cell_type": "code",
   "execution_count": null,
   "id": "81fc60fb",
   "metadata": {},
   "outputs": [],
   "source": [
    "#base_url = \"http://localhost:5000\"\n",
    "base_url = \"http://192.168.127.8/ts-model\"\n",
    "#base_url = \"http://127.0.0.1\""
   ]
  },
  {
   "cell_type": "code",
   "execution_count": null,
   "id": "78baf1a1",
   "metadata": {},
   "outputs": [],
   "source": [
    "res = requests.get(base_url + \"/version\")\n",
    "print(res.json())"
   ]
  },
  {
   "cell_type": "code",
   "execution_count": null,
   "id": "5012b4b2",
   "metadata": {},
   "outputs": [],
   "source": [
    "res = requests.get(base_url + \"/example\")\n",
    "print(res.json())"
   ]
  },
  {
   "cell_type": "code",
   "execution_count": null,
   "id": "22058e3a",
   "metadata": {},
   "outputs": [],
   "source": [
    "dft = pd.DataFrame(res.json()[\"data\"], columns=res.json()[\"header\"])\n",
    "dft[\"ds\"] = pd.to_datetime(dft['ds'])\n",
    "dft[\"y\"] = dft['y'].astype(float)\n",
    "dft.plot(\"ds\", \"y\", figsize=[15,10])"
   ]
  },
  {
   "cell_type": "code",
   "execution_count": null,
   "id": "d7202fdb",
   "metadata": {},
   "outputs": [],
   "source": [
    "tr = requests.post(base_url + \"/train\", json = res.json())\n",
    "print(tr)\n",
    "print(tr.json())\n",
    "model_id = tr.json()[\"model_id\"]"
   ]
  },
  {
   "cell_type": "code",
   "execution_count": null,
   "id": "e2e7e036",
   "metadata": {},
   "outputs": [],
   "source": [
    "print(model_id)\n",
    "xv = requests.get(base_url + f\"/validation/{model_id}\", timeout=120)\n",
    "print(xv)\n",
    "print(xv.json())"
   ]
  },
  {
   "cell_type": "code",
   "execution_count": null,
   "id": "8fa577e7",
   "metadata": {},
   "outputs": [],
   "source": [
    "pr = requests.post(base_url + f\"/predict\", json = {\"size\": 180, \"data\":[], \"model_id\": model_id})"
   ]
  },
  {
   "cell_type": "code",
   "execution_count": null,
   "id": "1cffdab4",
   "metadata": {},
   "outputs": [],
   "source": [
    "print(pr.json()[\"header\"])\n",
    "dfr = pd.DataFrame(pr.json()[\"data\"], columns=pr.json()[\"header\"])\n",
    "dfr[\"ds\"] = pd.to_datetime(dfr['ds'])\n",
    "ax = dfr.plot(\"ds\",[\"yhat\", \"yhat_upper\", \"yhat_lower\"], figsize=[12,12], alpha=0.6)\n",
    "dft.plot(\"ds\", \"y\", ax=ax, style=\"y*\", alpha=0.4)"
   ]
  },
  {
   "cell_type": "code",
   "execution_count": null,
   "id": "9eba073e",
   "metadata": {},
   "outputs": [],
   "source": []
  }
 ],
 "metadata": {
  "kernelspec": {
   "display_name": "Python 3 (ipykernel)",
   "language": "python",
   "name": "python3"
  },
  "language_info": {
   "codemirror_mode": {
    "name": "ipython",
    "version": 3
   },
   "file_extension": ".py",
   "mimetype": "text/x-python",
   "name": "python",
   "nbconvert_exporter": "python",
   "pygments_lexer": "ipython3",
   "version": "3.8.12"
  }
 },
 "nbformat": 4,
 "nbformat_minor": 5
}
