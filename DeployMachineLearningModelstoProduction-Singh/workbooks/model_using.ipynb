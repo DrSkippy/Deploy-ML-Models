{
 "cells": [
  {
   "cell_type": "code",
   "execution_count": null,
   "id": "6d8fcaf0",
   "metadata": {},
   "outputs": [],
   "source": [
    "from joblib import dump, load"
   ]
  },
  {
   "cell_type": "code",
   "execution_count": 3,
   "id": "d75c6f57",
   "metadata": {},
   "outputs": [],
   "source": [
    "dt = load(\"decision_tree.pkl\")"
   ]
  },
  {
   "cell_type": "code",
   "execution_count": null,
   "id": "55a307eb",
   "metadata": {},
   "outputs": [],
   "source": [
    "nn = load(\"neural_net.pkl\")\n",
    "nn_sc = load(\"neural_net_scaler.pkl\")"
   ]
  }
 ],
 "metadata": {
  "kernelspec": {
   "display_name": "Python 3 (ipykernel)",
   "language": "python",
   "name": "python3"
  },
  "language_info": {
   "codemirror_mode": {
    "name": "ipython",
    "version": 3
   },
   "file_extension": ".py",
   "mimetype": "text/x-python",
   "name": "python",
   "nbconvert_exporter": "python",
   "pygments_lexer": "ipython3",
   "version": "3.8.12"
  }
 },
 "nbformat": 4,
 "nbformat_minor": 5
}
