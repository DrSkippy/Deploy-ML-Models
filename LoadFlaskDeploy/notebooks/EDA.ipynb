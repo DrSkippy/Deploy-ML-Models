{
 "cells": [
  {
   "cell_type": "code",
   "execution_count": 1,
   "id": "7be10918",
   "metadata": {},
   "outputs": [],
   "source": [
    "import datetime\n",
    "import time\n",
    "\n",
    "import numpy as np\n",
    "import pandas as pd\n",
    "import matplotlib\n",
    "from matplotlib import pyplot as plt\n",
    "%matplotlib inline\n",
    "\n",
    "import notebook_libs.utilities as util\n",
    "import notebook_libs.prometheus as prom"
   ]
  },
  {
   "cell_type": "markdown",
   "id": "a083a406",
   "metadata": {},
   "source": [
    "## Experiment in Progress - Client Data"
   ]
  },
  {
   "cell_type": "code",
   "execution_count": null,
   "id": "f60a961e",
   "metadata": {
    "scrolled": false
   },
   "outputs": [],
   "source": [
    "while True:\n",
    "    print(f\"Updated {datetime.datetime.now()}\")\n",
    "    df = util.read_client_requests_in_progress()\n",
    "    f, ax = plt.subplots(figsize=[8,4])\n",
    "    util.plot_client_latency_distribution(df, \"in-progress\", ax)\n",
    "    plt.show()\n",
    "    result = prom.fetch_experiment_pod_data(int(14000/60.))\n",
    "    util.plot_pod_metrics(result)\n",
    "    plt.show()\n",
    "    time.sleep(200)"
   ]
  },
  {
   "cell_type": "markdown",
   "id": "2ac885d0",
   "metadata": {},
   "source": [
    "## Experiment in Progress - Prometheus Data"
   ]
  },
  {
   "cell_type": "code",
   "execution_count": null,
   "id": "505e7838",
   "metadata": {
    "scrolled": false
   },
   "outputs": [],
   "source": [
    "result = prom.fetch_experiment_pod_data(int(12000/60.))\n",
    "util.plot_pod_metrics(result)"
   ]
  },
  {
   "cell_type": "markdown",
   "id": "02d6de54",
   "metadata": {},
   "source": [
    "## Completed Experiments"
   ]
  },
  {
   "cell_type": "code",
   "execution_count": 2,
   "id": "486e1458",
   "metadata": {},
   "outputs": [
    {
     "name": "stdout",
     "output_type": "stream",
     "text": [
      "0: 2023-02-15_2-replicas\n",
      "1: 2023-02-16_4-replicas\n",
      "2: 2023-02-16_6-replicas\n",
      "3: 2023-02-17_3-replicas\n",
      "4: 2023-02-17_5-replicas\n",
      "5: 2023-02-19_2-replicas\n",
      "6: 2023-02-20_5-replicas\n",
      "7: 2023-02-15_3-replicas\n",
      "8: 2023-02-16_5-replicas\n",
      "9: 2023-02-16_6-replicas-2\n",
      "10: 2023-02-17_4-replicas\n",
      "11: 2023-02-18_3-replicas\n",
      "12: 2023-02-19_4-replicas\n"
     ]
    }
   ],
   "source": [
    "print(\"\\n\".join([f\"{i}: {x}\" for i, x in enumerate(util.experiments)]))"
   ]
  },
  {
   "cell_type": "code",
   "execution_count": 3,
   "id": "776401c3",
   "metadata": {},
   "outputs": [],
   "source": [
    "current_experiment = util.experiments[6]"
   ]
  },
  {
   "cell_type": "markdown",
   "id": "e60e4f5c",
   "metadata": {},
   "source": [
    "### Create 1-Minute buckets for client request data"
   ]
  },
  {
   "cell_type": "code",
   "execution_count": null,
   "id": "0c129bab",
   "metadata": {
    "scrolled": false
   },
   "outputs": [],
   "source": [
    "df, first_request_time, final_request_time = util.read_client_requests(current_experiment)\n",
    "df_bucket = util.create_1_min_bucket_client_metrics(df)\n",
    "df_bucket.plot(y=[\n",
    "    \"request_rate_per_min\", \n",
    "    \"avg_client_latency_ms\",\n",
    "    \"std_client_latency_ms\",\n",
    "    \"avg_response_function_latency_ms\",\n",
    "    \"std_response_function_latency_ms\"\n",
    "]\n",
    ",figsize=[8,12]\n",
    ",title=\"Client Metrics (1Min Buckets)\")"
   ]
  },
  {
   "cell_type": "markdown",
   "id": "ce388e11",
   "metadata": {},
   "source": [
    "### Determine window boundaries"
   ]
  },
  {
   "cell_type": "code",
   "execution_count": null,
   "id": "c4aa9ae7",
   "metadata": {},
   "outputs": [],
   "source": [
    "df_client, first_request_time, final_request_time = util.read_client_requests(current_experiment)\n",
    "first_request_time = int(first_request_time)\n",
    "final_request_time = int(final_request_time + 120)\n",
    "print(first_request_time, final_request_time)"
   ]
  },
  {
   "cell_type": "code",
   "execution_count": null,
   "id": "6f6fa520",
   "metadata": {},
   "outputs": [],
   "source": [
    "df_client.describe()"
   ]
  },
  {
   "cell_type": "markdown",
   "id": "cc986560",
   "metadata": {},
   "source": [
    "## Compare a Group of Experiments"
   ]
  },
  {
   "cell_type": "code",
   "execution_count": null,
   "id": "35c3311e",
   "metadata": {
    "scrolled": false
   },
   "outputs": [],
   "source": [
    "print(util.experiments)\n",
    "util.compare_client_latency_distributions()"
   ]
  },
  {
   "cell_type": "markdown",
   "id": "a569465f",
   "metadata": {},
   "source": [
    "## Experiment Complete - Compare data window between Client and Prometheus"
   ]
  },
  {
   "cell_type": "code",
   "execution_count": null,
   "id": "bb6ecb17",
   "metadata": {
    "scrolled": false
   },
   "outputs": [],
   "source": [
    "df_pod = util.read_pod_df_list(current_experiment, first_request_time, final_request_time)\n",
    "util.plot_pod_metrics(df_pod)"
   ]
  },
  {
   "cell_type": "code",
   "execution_count": null,
   "id": "cb6c6808",
   "metadata": {},
   "outputs": [],
   "source": [
    "df = util.combined_data_set(current_experiment)\n",
    "df.head(10)"
   ]
  },
  {
   "cell_type": "code",
   "execution_count": null,
   "id": "e138c126",
   "metadata": {},
   "outputs": [],
   "source": [
    "df.plot.scatter(x=\"request_rate_per_min\",y=\"cpu\")\n",
    "df.plot.scatter(x=\"request_rate_per_min\",y=\"memory\")"
   ]
  },
  {
   "cell_type": "markdown",
   "id": "2c565ca5",
   "metadata": {},
   "source": [
    "## Workload Response Model"
   ]
  },
  {
   "cell_type": "code",
   "execution_count": 4,
   "id": "dbce5363",
   "metadata": {},
   "outputs": [
    {
     "name": "stderr",
     "output_type": "stream",
     "text": [
      "2023-02-24 13:03:45.480038: I tensorflow/core/platform/cpu_feature_guard.cc:193] This TensorFlow binary is optimized with oneAPI Deep Neural Network Library (oneDNN) to use the following CPU instructions in performance-critical operations:  AVX2 FMA\n",
      "To enable them in other operations, rebuild TensorFlow with the appropriate compiler flags.\n"
     ]
    }
   ],
   "source": [
    "from numpy import loadtxt\n",
    "from tensorflow.keras.models import Sequential\n",
    "from tensorflow.keras.layers import Dense\n",
    "from sklearn.preprocessing import MinMaxScaler\n",
    "\n",
    "scaler = MinMaxScaler()"
   ]
  },
  {
   "cell_type": "code",
   "execution_count": 5,
   "id": "65b9e4b2",
   "metadata": {},
   "outputs": [
    {
     "name": "stdout",
     "output_type": "stream",
     "text": [
      "WARNING: Pod id (load-model-service-784886b884-rh7kr) from data file not in pod list!\n",
      "WARNING: Pod id (load-model-service-784886b884-rh7kr) from data file not in pod list!\n",
      "WARNING: Pod id (load-model-service-784886b884-jcr4j) from data file not in pod list!\n",
      "WARNING: Pod id (load-model-service-784886b884-jcr4j) from data file not in pod list!\n",
      "WARNING: Pod id (load-model-service-784886b884-cglcb) from data file not in pod list!\n",
      "WARNING: Pod id (load-model-service-784886b884-cglcb) from data file not in pod list!\n"
     ]
    }
   ],
   "source": [
    "dfs = [util.combined_data_set(ce) for ce in util.experiments]\n",
    "df = pd.concat(dfs, axis=0)\n",
    "# print(df.head(4))"
   ]
  },
  {
   "cell_type": "code",
   "execution_count": 45,
   "id": "676073a9",
   "metadata": {},
   "outputs": [
    {
     "data": {
      "text/plain": [
       "<Axes: title={'center': 'avg_client_latency_ms'}, xlabel='replicas'>"
      ]
     },
     "execution_count": 45,
     "metadata": {},
     "output_type": "execute_result"
    },
    {
     "data": {
      "image/png": "[encoded data removed]",
      "text/plain": [
       "<Figure size 640x480 with 1 Axes>"
      ]
     },
     "metadata": {},
     "output_type": "display_data"
    }
   ],
   "source": [
    "df.boxplot(\"avg_client_latency_ms\", by=\"replicas\")"
   ]
  },
  {
   "cell_type": "code",
   "execution_count": 46,
   "id": "839a246f",
   "metadata": {},
   "outputs": [
    {
     "data": {
      "text/plain": [
       "<Axes: title={'center': 'avg_client_latency_ms'}, xlabel='log_req_rate'>"
      ]
     },
     "execution_count": 46,
     "metadata": {},
     "output_type": "execute_result"
    },
    {
     "data": {
      "image/png": "[encoded data removed]",
      "text/plain": [
       "<Figure size 640x480 with 1 Axes>"
      ]
     },
     "metadata": {},
     "output_type": "display_data"
    }
   ],
   "source": [
    "df[\"log_req_rate\"] = df_train.request_rate_per_min.apply(lambda x: int(np.log(x)))\n",
    "df.boxplot(\"avg_client_latency_ms\", by=\"log_req_rate\")"
   ]
  },
  {
   "cell_type": "code",
   "execution_count": 49,
   "id": "14523866",
   "metadata": {},
   "outputs": [
    {
     "data": {
      "text/plain": [
       "<Axes: title={'center': 'avg_client_latency_ms'}, xlabel='log_memory'>"
      ]
     },
     "execution_count": 49,
     "metadata": {},
     "output_type": "execute_result"
    },
    {
     "data": {
      "image/png": "[encoded data removed]",
      "text/plain": [
       "<Figure size 640x480 with 1 Axes>"
      ]
     },
     "metadata": {},
     "output_type": "display_data"
    }
   ],
   "source": [
    "df[\"log_memory\"] = df_train.memory.apply(lambda x: int(np.log(x+1)))\n",
    "df.boxplot(\"avg_client_latency_ms\", by=\"log_memory\")"
   ]
  },
  {
   "cell_type": "code",
   "execution_count": 50,
   "id": "4334697c",
   "metadata": {},
   "outputs": [
    {
     "data": {
      "text/plain": [
       "<Axes: title={'center': 'avg_client_latency_ms'}, xlabel='log_cpu'>"
      ]
     },
     "execution_count": 50,
     "metadata": {},
     "output_type": "execute_result"
    },
    {
     "data": {
      "image/png": "[encoded data removed]",
      "text/plain": [
       "<Figure size 640x480 with 1 Axes>"
      ]
     },
     "metadata": {},
     "output_type": "display_data"
    }
   ],
   "source": [
    "df[\"log_cpu\"] = df_train.cpu.apply(lambda x: int(np.log(x)))\n",
    "df.boxplot(\"avg_client_latency_ms\", by=\"log_cpu\")"
   ]
  },
  {
   "cell_type": "code",
   "execution_count": 6,
   "id": "9bdba047",
   "metadata": {},
   "outputs": [],
   "source": [
    "df_train = df[[ \"memory\", \"cpu\", \"request_rate_per_min\", \"avg_client_latency_ms\", \"replicas\"]].copy()\n",
    "df_train[\"avg_client_latency_ms\"] = df_train[\"avg_client_latency_ms\"].apply(lambda x: np.log(x))\n",
    "df_train = df_train.dropna()"
   ]
  },
  {
   "cell_type": "code",
   "execution_count": 26,
   "id": "2476ff17",
   "metadata": {},
   "outputs": [],
   "source": [
    "scaler.fit(df_train)\n",
    "scaled = scaler.transform(df_train)\n",
    "# scaled_df = pd.DataFrame(scaled, columns=df_train.columns)\n",
    "X = scaled[:,[2,4]]\n",
    "y = scaled[:,[0,1,3]]"
   ]
  },
  {
   "cell_type": "code",
   "execution_count": 27,
   "id": "81a1d94f",
   "metadata": {},
   "outputs": [
    {
     "name": "stdout",
     "output_type": "stream",
     "text": [
      "Epoch 1/65\n",
      "234/234 [==============================] - 1s 870us/step - loss: 0.0828 - accuracy: 0.4749\n",
      "Epoch 2/65\n",
      "234/234 [==============================] - 0s 1ms/step - loss: 0.0538 - accuracy: 0.6518\n",
      "Epoch 3/65\n",
      "234/234 [==============================] - 0s 928us/step - loss: 0.0534 - accuracy: 0.6518\n",
      "Epoch 4/65\n",
      "234/234 [==============================] - 0s 743us/step - loss: 0.0532 - accuracy: 0.6518\n",
      "Epoch 5/65\n",
      "234/234 [==============================] - 0s 775us/step - loss: 0.0530 - accuracy: 0.6518\n",
      "Epoch 6/65\n",
      "234/234 [==============================] - 0s 737us/step - loss: 0.0528 - accuracy: 0.6518\n",
      "Epoch 7/65\n",
      "234/234 [==============================] - 0s 807us/step - loss: 0.0525 - accuracy: 0.6518\n",
      "Epoch 8/65\n",
      "234/234 [==============================] - 0s 769us/step - loss: 0.0521 - accuracy: 0.6518\n",
      "Epoch 9/65\n",
      "234/234 [==============================] - 0s 738us/step - loss: 0.0518 - accuracy: 0.6518\n",
      "Epoch 10/65\n",
      "234/234 [==============================] - 0s 762us/step - loss: 0.0515 - accuracy: 0.6518\n",
      "Epoch 11/65\n",
      "234/234 [==============================] - 0s 883us/step - loss: 0.0511 - accuracy: 0.6518\n",
      "Epoch 12/65\n",
      "234/234 [==============================] - 0s 831us/step - loss: 0.0509 - accuracy: 0.6518\n",
      "Epoch 13/65\n",
      "234/234 [==============================] - 0s 910us/step - loss: 0.0509 - accuracy: 0.6518\n",
      "Epoch 14/65\n",
      "234/234 [==============================] - 0s 798us/step - loss: 0.0508 - accuracy: 0.6518\n",
      "Epoch 15/65\n",
      "234/234 [==============================] - 0s 791us/step - loss: 0.0507 - accuracy: 0.6518\n",
      "Epoch 16/65\n",
      "234/234 [==============================] - 0s 803us/step - loss: 0.0506 - accuracy: 0.6518\n",
      "Epoch 17/65\n",
      "234/234 [==============================] - 0s 755us/step - loss: 0.0506 - accuracy: 0.6518\n",
      "Epoch 18/65\n",
      "234/234 [==============================] - 0s 873us/step - loss: 0.0507 - accuracy: 0.6518\n",
      "Epoch 19/65\n",
      "234/234 [==============================] - 0s 768us/step - loss: 0.0505 - accuracy: 0.6518\n",
      "Epoch 20/65\n",
      "234/234 [==============================] - 0s 767us/step - loss: 0.0505 - accuracy: 0.6518\n",
      "Epoch 21/65\n",
      "234/234 [==============================] - 0s 766us/step - loss: 0.0505 - accuracy: 0.6518\n",
      "Epoch 22/65\n",
      "234/234 [==============================] - 0s 971us/step - loss: 0.0505 - accuracy: 0.6518\n",
      "Epoch 23/65\n",
      "234/234 [==============================] - 0s 876us/step - loss: 0.0504 - accuracy: 0.6518\n",
      "Epoch 24/65\n",
      "234/234 [==============================] - 0s 789us/step - loss: 0.0504 - accuracy: 0.6518\n",
      "Epoch 25/65\n",
      "234/234 [==============================] - 0s 830us/step - loss: 0.0503 - accuracy: 0.6518\n",
      "Epoch 26/65\n",
      "234/234 [==============================] - 0s 748us/step - loss: 0.0503 - accuracy: 0.6518\n",
      "Epoch 27/65\n",
      "234/234 [==============================] - 0s 806us/step - loss: 0.0503 - accuracy: 0.6518\n",
      "Epoch 28/65\n",
      "234/234 [==============================] - 0s 899us/step - loss: 0.0503 - accuracy: 0.6518\n",
      "Epoch 29/65\n",
      "234/234 [==============================] - 0s 864us/step - loss: 0.0503 - accuracy: 0.6518\n",
      "Epoch 30/65\n",
      "234/234 [==============================] - 0s 789us/step - loss: 0.0502 - accuracy: 0.6518\n",
      "Epoch 31/65\n",
      "234/234 [==============================] - 0s 1ms/step - loss: 0.0502 - accuracy: 0.6518\n",
      "Epoch 32/65\n",
      "234/234 [==============================] - 0s 1ms/step - loss: 0.0502 - accuracy: 0.6518\n",
      "Epoch 33/65\n",
      "234/234 [==============================] - 0s 954us/step - loss: 0.0503 - accuracy: 0.6518\n",
      "Epoch 34/65\n",
      "234/234 [==============================] - 0s 815us/step - loss: 0.0501 - accuracy: 0.6518\n",
      "Epoch 35/65\n",
      "234/234 [==============================] - 0s 768us/step - loss: 0.0502 - accuracy: 0.6518\n",
      "Epoch 36/65\n",
      "234/234 [==============================] - 0s 790us/step - loss: 0.0502 - accuracy: 0.6518\n",
      "Epoch 37/65\n",
      "234/234 [==============================] - 0s 755us/step - loss: 0.0501 - accuracy: 0.6518\n",
      "Epoch 38/65\n",
      "234/234 [==============================] - 0s 893us/step - loss: 0.0501 - accuracy: 0.6518\n",
      "Epoch 39/65\n",
      "234/234 [==============================] - 0s 814us/step - loss: 0.0501 - accuracy: 0.6518\n",
      "Epoch 40/65\n",
      "234/234 [==============================] - 0s 763us/step - loss: 0.0502 - accuracy: 0.6518\n",
      "Epoch 41/65\n",
      "234/234 [==============================] - 0s 776us/step - loss: 0.0501 - accuracy: 0.6518\n",
      "Epoch 42/65\n",
      "234/234 [==============================] - 0s 760us/step - loss: 0.0501 - accuracy: 0.6518\n",
      "Epoch 43/65\n",
      "234/234 [==============================] - 0s 813us/step - loss: 0.0501 - accuracy: 0.6518\n",
      "Epoch 44/65\n",
      "234/234 [==============================] - 0s 837us/step - loss: 0.0501 - accuracy: 0.6518\n",
      "Epoch 45/65\n",
      "234/234 [==============================] - 0s 793us/step - loss: 0.0502 - accuracy: 0.6518\n",
      "Epoch 46/65\n",
      "234/234 [==============================] - 0s 801us/step - loss: 0.0501 - accuracy: 0.6518\n",
      "Epoch 47/65\n",
      "234/234 [==============================] - 0s 798us/step - loss: 0.0501 - accuracy: 0.6518\n",
      "Epoch 48/65\n",
      "234/234 [==============================] - 0s 820us/step - loss: 0.0501 - accuracy: 0.6518\n",
      "Epoch 49/65\n",
      "234/234 [==============================] - 0s 851us/step - loss: 0.0501 - accuracy: 0.6518\n",
      "Epoch 50/65\n",
      "234/234 [==============================] - 0s 806us/step - loss: 0.0501 - accuracy: 0.6518\n",
      "Epoch 51/65\n",
      "234/234 [==============================] - 0s 812us/step - loss: 0.0501 - accuracy: 0.6518\n",
      "Epoch 52/65\n",
      "234/234 [==============================] - 0s 798us/step - loss: 0.0501 - accuracy: 0.6518\n",
      "Epoch 53/65\n",
      "234/234 [==============================] - 0s 834us/step - loss: 0.0501 - accuracy: 0.6522\n",
      "Epoch 54/65\n",
      "234/234 [==============================] - 0s 865us/step - loss: 0.0501 - accuracy: 0.6518\n",
      "Epoch 55/65\n",
      "234/234 [==============================] - 0s 756us/step - loss: 0.0501 - accuracy: 0.6518\n",
      "Epoch 56/65\n",
      "234/234 [==============================] - 0s 769us/step - loss: 0.0501 - accuracy: 0.6518\n",
      "Epoch 57/65\n",
      "234/234 [==============================] - 0s 857us/step - loss: 0.0501 - accuracy: 0.6518\n",
      "Epoch 58/65\n",
      "234/234 [==============================] - 0s 747us/step - loss: 0.0501 - accuracy: 0.6518\n",
      "Epoch 59/65\n",
      "234/234 [==============================] - 0s 894us/step - loss: 0.0501 - accuracy: 0.6518\n",
      "Epoch 60/65\n",
      "234/234 [==============================] - 0s 773us/step - loss: 0.0501 - accuracy: 0.6518\n",
      "Epoch 61/65\n",
      "234/234 [==============================] - 0s 1ms/step - loss: 0.0501 - accuracy: 0.6518\n",
      "Epoch 62/65\n",
      "234/234 [==============================] - 0s 1ms/step - loss: 0.0501 - accuracy: 0.6518\n",
      "Epoch 63/65\n",
      "234/234 [==============================] - 0s 844us/step - loss: 0.0500 - accuracy: 0.6518\n",
      "Epoch 64/65\n",
      "234/234 [==============================] - 0s 835us/step - loss: 0.0501 - accuracy: 0.6518\n",
      "Epoch 65/65\n",
      "234/234 [==============================] - 0s 841us/step - loss: 0.0500 - accuracy: 0.6518\n",
      "73/73 [==============================] - 0s 730us/step - loss: 0.0500 - accuracy: 0.6518\n",
      "Accuracy: 65.18\n"
     ]
    }
   ],
   "source": [
    "model = Sequential()\n",
    "model.add(Dense(10, input_shape=(2,), activation='relu'))\n",
    "model.add(Dense(12, activation='relu'))\n",
    "model.add(Dense(3, activation='relu'))\n",
    "# compile the keras model\n",
    "model.compile(loss='mean_squared_error', optimizer='adam', metrics=['accuracy'])\n",
    "# fit the keras model on the dataset\n",
    "model.fit(X, y, epochs=65, batch_size=10)\n",
    "# evaluate the keras model\n",
    "_, accuracy = model.evaluate(X, y)\n",
    "print('Accuracy: %.2f' % (accuracy*100))"
   ]
  },
  {
   "cell_type": "code",
   "execution_count": 28,
   "id": "bd615f58",
   "metadata": {},
   "outputs": [
    {
     "name": "stdout",
     "output_type": "stream",
     "text": [
      "(2335, 2) (2335, 3)\n",
      "[0.21138211 0.25      ] [0.29837744 0.15441668 0.03224196]\n"
     ]
    }
   ],
   "source": [
    "print(X.shape, y.shape)\n",
    "print(X[1300,:], y[0,:])"
   ]
  },
  {
   "cell_type": "code",
   "execution_count": 43,
   "id": "2a1fc24d",
   "metadata": {},
   "outputs": [],
   "source": [
    "def scan_for_replicas(model, scaler, req_rate, last_n, latency_target = 600, delta_n = 3, n_min = 2, n_max = 6):\n",
    "    lat_data = []\n",
    "    ns = np.array(range(max(n_min, last_n-delta_n), min(last_n+delta_n, n_max)))\n",
    "    for n in ns:\n",
    "        X = scaler.transform(np.array([0, 0, req_rate, 0, n]).reshape(1, -1))[:,[2,4]]\n",
    "        _y = model.predict(X)[0]\n",
    "        pred_lat = scaler.inverse_transform(np.array([_y[0], _y[1], req_rate, _y[2], n]).reshape(1, -1))\n",
    "        lat_data.append(pred_lat[0][3])\n",
    "    i, = np.where(np.array(lat_data) < np.log(latency_target))\n",
    "    #print(\"target \", np.log(latency_target))\n",
    "    #print(\"latency\", lat_data)\n",
    "    #print(\"     ns\", ns)\n",
    "    #print(i, ns[i])\n",
    "    #print(min(ns[i]))\n",
    "    try:\n",
    "        res = min(ns[i])\n",
    "    except (ValueError) as e:\n",
    "        res = n_max\n",
    "    return res"
   ]
  },
  {
   "cell_type": "code",
   "execution_count": 44,
   "id": "6ee58213",
   "metadata": {},
   "outputs": [
    {
     "name": "stdout",
     "output_type": "stream",
     "text": [
      "1/1 [==============================] - 0s 14ms/step\n",
      "1/1 [==============================] - 0s 13ms/step\n",
      "1/1 [==============================] - 0s 13ms/step\n",
      "1/1 [==============================] - 0s 14ms/step\n"
     ]
    },
    {
     "name": "stderr",
     "output_type": "stream",
     "text": [
      "/Users/s.hendrickson/Library/Caches/pypoetry/virtualenvs/loadflaskdeploy-mJ1-TA_o-py3.10/lib/python3.10/site-packages/sklearn/base.py:420: UserWarning: X does not have valid feature names, but MinMaxScaler was fitted with feature names\n",
      "  warnings.warn(\n",
      "/Users/s.hendrickson/Library/Caches/pypoetry/virtualenvs/loadflaskdeploy-mJ1-TA_o-py3.10/lib/python3.10/site-packages/sklearn/base.py:420: UserWarning: X does not have valid feature names, but MinMaxScaler was fitted with feature names\n",
      "  warnings.warn(\n",
      "/Users/s.hendrickson/Library/Caches/pypoetry/virtualenvs/loadflaskdeploy-mJ1-TA_o-py3.10/lib/python3.10/site-packages/sklearn/base.py:420: UserWarning: X does not have valid feature names, but MinMaxScaler was fitted with feature names\n",
      "  warnings.warn(\n",
      "/Users/s.hendrickson/Library/Caches/pypoetry/virtualenvs/loadflaskdeploy-mJ1-TA_o-py3.10/lib/python3.10/site-packages/sklearn/base.py:420: UserWarning: X does not have valid feature names, but MinMaxScaler was fitted with feature names\n",
      "  warnings.warn(\n",
      "/Users/s.hendrickson/Library/Caches/pypoetry/virtualenvs/loadflaskdeploy-mJ1-TA_o-py3.10/lib/python3.10/site-packages/sklearn/base.py:420: UserWarning: X does not have valid feature names, but MinMaxScaler was fitted with feature names\n",
      "  warnings.warn(\n"
     ]
    },
    {
     "name": "stdout",
     "output_type": "stream",
     "text": [
      "1/1 [==============================] - 0s 14ms/step\n",
      "1/1 [==============================] - 0s 14ms/step\n",
      "1/1 [==============================] - 0s 13ms/step\n",
      "1/1 [==============================] - 0s 13ms/step\n",
      "1/1 [==============================] - 0s 14ms/step\n"
     ]
    },
    {
     "name": "stderr",
     "output_type": "stream",
     "text": [
      "/Users/s.hendrickson/Library/Caches/pypoetry/virtualenvs/loadflaskdeploy-mJ1-TA_o-py3.10/lib/python3.10/site-packages/sklearn/base.py:420: UserWarning: X does not have valid feature names, but MinMaxScaler was fitted with feature names\n",
      "  warnings.warn(\n",
      "/Users/s.hendrickson/Library/Caches/pypoetry/virtualenvs/loadflaskdeploy-mJ1-TA_o-py3.10/lib/python3.10/site-packages/sklearn/base.py:420: UserWarning: X does not have valid feature names, but MinMaxScaler was fitted with feature names\n",
      "  warnings.warn(\n",
      "/Users/s.hendrickson/Library/Caches/pypoetry/virtualenvs/loadflaskdeploy-mJ1-TA_o-py3.10/lib/python3.10/site-packages/sklearn/base.py:420: UserWarning: X does not have valid feature names, but MinMaxScaler was fitted with feature names\n",
      "  warnings.warn(\n",
      "/Users/s.hendrickson/Library/Caches/pypoetry/virtualenvs/loadflaskdeploy-mJ1-TA_o-py3.10/lib/python3.10/site-packages/sklearn/base.py:420: UserWarning: X does not have valid feature names, but MinMaxScaler was fitted with feature names\n",
      "  warnings.warn(\n",
      "/Users/s.hendrickson/Library/Caches/pypoetry/virtualenvs/loadflaskdeploy-mJ1-TA_o-py3.10/lib/python3.10/site-packages/sklearn/base.py:420: UserWarning: X does not have valid feature names, but MinMaxScaler was fitted with feature names\n",
      "  warnings.warn(\n"
     ]
    },
    {
     "name": "stdout",
     "output_type": "stream",
     "text": [
      "1/1 [==============================] - 0s 14ms/step\n",
      "1/1 [==============================] - 0s 14ms/step\n",
      "1/1 [==============================] - 0s 14ms/step\n",
      "1/1 [==============================] - 0s 15ms/step\n",
      "1/1 [==============================] - 0s 15ms/step\n"
     ]
    },
    {
     "name": "stderr",
     "output_type": "stream",
     "text": [
      "/Users/s.hendrickson/Library/Caches/pypoetry/virtualenvs/loadflaskdeploy-mJ1-TA_o-py3.10/lib/python3.10/site-packages/sklearn/base.py:420: UserWarning: X does not have valid feature names, but MinMaxScaler was fitted with feature names\n",
      "  warnings.warn(\n",
      "/Users/s.hendrickson/Library/Caches/pypoetry/virtualenvs/loadflaskdeploy-mJ1-TA_o-py3.10/lib/python3.10/site-packages/sklearn/base.py:420: UserWarning: X does not have valid feature names, but MinMaxScaler was fitted with feature names\n",
      "  warnings.warn(\n",
      "/Users/s.hendrickson/Library/Caches/pypoetry/virtualenvs/loadflaskdeploy-mJ1-TA_o-py3.10/lib/python3.10/site-packages/sklearn/base.py:420: UserWarning: X does not have valid feature names, but MinMaxScaler was fitted with feature names\n",
      "  warnings.warn(\n",
      "/Users/s.hendrickson/Library/Caches/pypoetry/virtualenvs/loadflaskdeploy-mJ1-TA_o-py3.10/lib/python3.10/site-packages/sklearn/base.py:420: UserWarning: X does not have valid feature names, but MinMaxScaler was fitted with feature names\n",
      "  warnings.warn(\n",
      "/Users/s.hendrickson/Library/Caches/pypoetry/virtualenvs/loadflaskdeploy-mJ1-TA_o-py3.10/lib/python3.10/site-packages/sklearn/base.py:420: UserWarning: X does not have valid feature names, but MinMaxScaler was fitted with feature names\n",
      "  warnings.warn(\n"
     ]
    },
    {
     "name": "stdout",
     "output_type": "stream",
     "text": [
      "1/1 [==============================] - 0s 16ms/step\n",
      "1/1 [==============================] - 0s 16ms/step\n",
      "1/1 [==============================] - 0s 14ms/step\n",
      "1/1 [==============================] - 0s 14ms/step\n"
     ]
    },
    {
     "name": "stderr",
     "output_type": "stream",
     "text": [
      "/Users/s.hendrickson/Library/Caches/pypoetry/virtualenvs/loadflaskdeploy-mJ1-TA_o-py3.10/lib/python3.10/site-packages/sklearn/base.py:420: UserWarning: X does not have valid feature names, but MinMaxScaler was fitted with feature names\n",
      "  warnings.warn(\n",
      "/Users/s.hendrickson/Library/Caches/pypoetry/virtualenvs/loadflaskdeploy-mJ1-TA_o-py3.10/lib/python3.10/site-packages/sklearn/base.py:420: UserWarning: X does not have valid feature names, but MinMaxScaler was fitted with feature names\n",
      "  warnings.warn(\n",
      "/Users/s.hendrickson/Library/Caches/pypoetry/virtualenvs/loadflaskdeploy-mJ1-TA_o-py3.10/lib/python3.10/site-packages/sklearn/base.py:420: UserWarning: X does not have valid feature names, but MinMaxScaler was fitted with feature names\n",
      "  warnings.warn(\n",
      "/Users/s.hendrickson/Library/Caches/pypoetry/virtualenvs/loadflaskdeploy-mJ1-TA_o-py3.10/lib/python3.10/site-packages/sklearn/base.py:420: UserWarning: X does not have valid feature names, but MinMaxScaler was fitted with feature names\n",
      "  warnings.warn(\n"
     ]
    },
    {
     "name": "stdout",
     "output_type": "stream",
     "text": [
      "1/1 [==============================] - 0s 15ms/step\n",
      "1/1 [==============================] - 0s 13ms/step\n",
      "1/1 [==============================] - 0s 19ms/step\n",
      "1/1 [==============================] - 0s 20ms/step\n"
     ]
    },
    {
     "name": "stderr",
     "output_type": "stream",
     "text": [
      "/Users/s.hendrickson/Library/Caches/pypoetry/virtualenvs/loadflaskdeploy-mJ1-TA_o-py3.10/lib/python3.10/site-packages/sklearn/base.py:420: UserWarning: X does not have valid feature names, but MinMaxScaler was fitted with feature names\n",
      "  warnings.warn(\n",
      "/Users/s.hendrickson/Library/Caches/pypoetry/virtualenvs/loadflaskdeploy-mJ1-TA_o-py3.10/lib/python3.10/site-packages/sklearn/base.py:420: UserWarning: X does not have valid feature names, but MinMaxScaler was fitted with feature names\n",
      "  warnings.warn(\n",
      "/Users/s.hendrickson/Library/Caches/pypoetry/virtualenvs/loadflaskdeploy-mJ1-TA_o-py3.10/lib/python3.10/site-packages/sklearn/base.py:420: UserWarning: X does not have valid feature names, but MinMaxScaler was fitted with feature names\n",
      "  warnings.warn(\n",
      "/Users/s.hendrickson/Library/Caches/pypoetry/virtualenvs/loadflaskdeploy-mJ1-TA_o-py3.10/lib/python3.10/site-packages/sklearn/base.py:420: UserWarning: X does not have valid feature names, but MinMaxScaler was fitted with feature names\n",
      "  warnings.warn(\n"
     ]
    },
    {
     "name": "stdout",
     "output_type": "stream",
     "text": [
      "1/1 [==============================] - 0s 16ms/step\n",
      "1/1 [==============================] - 0s 16ms/step\n",
      "1/1 [==============================] - 0s 14ms/step\n",
      "1/1 [==============================] - 0s 14ms/step\n"
     ]
    },
    {
     "name": "stderr",
     "output_type": "stream",
     "text": [
      "/Users/s.hendrickson/Library/Caches/pypoetry/virtualenvs/loadflaskdeploy-mJ1-TA_o-py3.10/lib/python3.10/site-packages/sklearn/base.py:420: UserWarning: X does not have valid feature names, but MinMaxScaler was fitted with feature names\n",
      "  warnings.warn(\n",
      "/Users/s.hendrickson/Library/Caches/pypoetry/virtualenvs/loadflaskdeploy-mJ1-TA_o-py3.10/lib/python3.10/site-packages/sklearn/base.py:420: UserWarning: X does not have valid feature names, but MinMaxScaler was fitted with feature names\n",
      "  warnings.warn(\n",
      "/Users/s.hendrickson/Library/Caches/pypoetry/virtualenvs/loadflaskdeploy-mJ1-TA_o-py3.10/lib/python3.10/site-packages/sklearn/base.py:420: UserWarning: X does not have valid feature names, but MinMaxScaler was fitted with feature names\n",
      "  warnings.warn(\n",
      "/Users/s.hendrickson/Library/Caches/pypoetry/virtualenvs/loadflaskdeploy-mJ1-TA_o-py3.10/lib/python3.10/site-packages/sklearn/base.py:420: UserWarning: X does not have valid feature names, but MinMaxScaler was fitted with feature names\n",
      "  warnings.warn(\n"
     ]
    },
    {
     "name": "stdout",
     "output_type": "stream",
     "text": [
      "1/1 [==============================] - 0s 14ms/step\n",
      "1/1 [==============================] - 0s 14ms/step\n",
      "1/1 [==============================] - 0s 14ms/step\n",
      "1/1 [==============================] - 0s 14ms/step\n",
      "1/1 [==============================] - 0s 14ms/step\n"
     ]
    },
    {
     "name": "stderr",
     "output_type": "stream",
     "text": [
      "/Users/s.hendrickson/Library/Caches/pypoetry/virtualenvs/loadflaskdeploy-mJ1-TA_o-py3.10/lib/python3.10/site-packages/sklearn/base.py:420: UserWarning: X does not have valid feature names, but MinMaxScaler was fitted with feature names\n",
      "  warnings.warn(\n",
      "/Users/s.hendrickson/Library/Caches/pypoetry/virtualenvs/loadflaskdeploy-mJ1-TA_o-py3.10/lib/python3.10/site-packages/sklearn/base.py:420: UserWarning: X does not have valid feature names, but MinMaxScaler was fitted with feature names\n",
      "  warnings.warn(\n",
      "/Users/s.hendrickson/Library/Caches/pypoetry/virtualenvs/loadflaskdeploy-mJ1-TA_o-py3.10/lib/python3.10/site-packages/sklearn/base.py:420: UserWarning: X does not have valid feature names, but MinMaxScaler was fitted with feature names\n",
      "  warnings.warn(\n",
      "/Users/s.hendrickson/Library/Caches/pypoetry/virtualenvs/loadflaskdeploy-mJ1-TA_o-py3.10/lib/python3.10/site-packages/sklearn/base.py:420: UserWarning: X does not have valid feature names, but MinMaxScaler was fitted with feature names\n",
      "  warnings.warn(\n",
      "/Users/s.hendrickson/Library/Caches/pypoetry/virtualenvs/loadflaskdeploy-mJ1-TA_o-py3.10/lib/python3.10/site-packages/sklearn/base.py:420: UserWarning: X does not have valid feature names, but MinMaxScaler was fitted with feature names\n",
      "  warnings.warn(\n"
     ]
    },
    {
     "name": "stdout",
     "output_type": "stream",
     "text": [
      "1/1 [==============================] - 0s 14ms/step\n",
      "1/1 [==============================] - 0s 14ms/step\n",
      "1/1 [==============================] - 0s 16ms/step\n",
      "1/1 [==============================] - 0s 18ms/step\n"
     ]
    },
    {
     "name": "stderr",
     "output_type": "stream",
     "text": [
      "/Users/s.hendrickson/Library/Caches/pypoetry/virtualenvs/loadflaskdeploy-mJ1-TA_o-py3.10/lib/python3.10/site-packages/sklearn/base.py:420: UserWarning: X does not have valid feature names, but MinMaxScaler was fitted with feature names\n",
      "  warnings.warn(\n",
      "/Users/s.hendrickson/Library/Caches/pypoetry/virtualenvs/loadflaskdeploy-mJ1-TA_o-py3.10/lib/python3.10/site-packages/sklearn/base.py:420: UserWarning: X does not have valid feature names, but MinMaxScaler was fitted with feature names\n",
      "  warnings.warn(\n",
      "/Users/s.hendrickson/Library/Caches/pypoetry/virtualenvs/loadflaskdeploy-mJ1-TA_o-py3.10/lib/python3.10/site-packages/sklearn/base.py:420: UserWarning: X does not have valid feature names, but MinMaxScaler was fitted with feature names\n",
      "  warnings.warn(\n",
      "/Users/s.hendrickson/Library/Caches/pypoetry/virtualenvs/loadflaskdeploy-mJ1-TA_o-py3.10/lib/python3.10/site-packages/sklearn/base.py:420: UserWarning: X does not have valid feature names, but MinMaxScaler was fitted with feature names\n",
      "  warnings.warn(\n"
     ]
    },
    {
     "name": "stdout",
     "output_type": "stream",
     "text": [
      "1/1 [==============================] - 0s 19ms/step\n",
      "1/1 [==============================] - 0s 21ms/step\n",
      "1/1 [==============================] - 0s 17ms/step\n",
      "1/1 [==============================] - 0s 14ms/step\n"
     ]
    },
    {
     "name": "stderr",
     "output_type": "stream",
     "text": [
      "/Users/s.hendrickson/Library/Caches/pypoetry/virtualenvs/loadflaskdeploy-mJ1-TA_o-py3.10/lib/python3.10/site-packages/sklearn/base.py:420: UserWarning: X does not have valid feature names, but MinMaxScaler was fitted with feature names\n",
      "  warnings.warn(\n",
      "/Users/s.hendrickson/Library/Caches/pypoetry/virtualenvs/loadflaskdeploy-mJ1-TA_o-py3.10/lib/python3.10/site-packages/sklearn/base.py:420: UserWarning: X does not have valid feature names, but MinMaxScaler was fitted with feature names\n",
      "  warnings.warn(\n",
      "/Users/s.hendrickson/Library/Caches/pypoetry/virtualenvs/loadflaskdeploy-mJ1-TA_o-py3.10/lib/python3.10/site-packages/sklearn/base.py:420: UserWarning: X does not have valid feature names, but MinMaxScaler was fitted with feature names\n",
      "  warnings.warn(\n",
      "/Users/s.hendrickson/Library/Caches/pypoetry/virtualenvs/loadflaskdeploy-mJ1-TA_o-py3.10/lib/python3.10/site-packages/sklearn/base.py:420: UserWarning: X does not have valid feature names, but MinMaxScaler was fitted with feature names\n",
      "  warnings.warn(\n"
     ]
    },
    {
     "name": "stdout",
     "output_type": "stream",
     "text": [
      "1/1 [==============================] - 0s 14ms/step\n",
      "1/1 [==============================] - 0s 17ms/step\n",
      "1/1 [==============================] - 0s 14ms/step\n",
      "1/1 [==============================] - 0s 13ms/step\n",
      "1/1 [==============================] - ETA: 0s"
     ]
    },
    {
     "name": "stderr",
     "output_type": "stream",
     "text": [
      "/Users/s.hendrickson/Library/Caches/pypoetry/virtualenvs/loadflaskdeploy-mJ1-TA_o-py3.10/lib/python3.10/site-packages/sklearn/base.py:420: UserWarning: X does not have valid feature names, but MinMaxScaler was fitted with feature names\n",
      "  warnings.warn(\n",
      "/Users/s.hendrickson/Library/Caches/pypoetry/virtualenvs/loadflaskdeploy-mJ1-TA_o-py3.10/lib/python3.10/site-packages/sklearn/base.py:420: UserWarning: X does not have valid feature names, but MinMaxScaler was fitted with feature names\n",
      "  warnings.warn(\n",
      "/Users/s.hendrickson/Library/Caches/pypoetry/virtualenvs/loadflaskdeploy-mJ1-TA_o-py3.10/lib/python3.10/site-packages/sklearn/base.py:420: UserWarning: X does not have valid feature names, but MinMaxScaler was fitted with feature names\n",
      "  warnings.warn(\n",
      "/Users/s.hendrickson/Library/Caches/pypoetry/virtualenvs/loadflaskdeploy-mJ1-TA_o-py3.10/lib/python3.10/site-packages/sklearn/base.py:420: UserWarning: X does not have valid feature names, but MinMaxScaler was fitted with feature names\n",
      "  warnings.warn(\n"
     ]
    },
    {
     "name": "stdout",
     "output_type": "stream",
     "text": [
      "1/1 [==============================] - 0s 15ms/step\n",
      "1/1 [==============================] - 0s 14ms/step\n",
      "1/1 [==============================] - 0s 14ms/step\n",
      "1/1 [==============================] - 0s 14ms/step\n",
      "1/1 [==============================] - 0s 14ms/step\n"
     ]
    },
    {
     "name": "stderr",
     "output_type": "stream",
     "text": [
      "/Users/s.hendrickson/Library/Caches/pypoetry/virtualenvs/loadflaskdeploy-mJ1-TA_o-py3.10/lib/python3.10/site-packages/sklearn/base.py:420: UserWarning: X does not have valid feature names, but MinMaxScaler was fitted with feature names\n",
      "  warnings.warn(\n",
      "/Users/s.hendrickson/Library/Caches/pypoetry/virtualenvs/loadflaskdeploy-mJ1-TA_o-py3.10/lib/python3.10/site-packages/sklearn/base.py:420: UserWarning: X does not have valid feature names, but MinMaxScaler was fitted with feature names\n",
      "  warnings.warn(\n",
      "/Users/s.hendrickson/Library/Caches/pypoetry/virtualenvs/loadflaskdeploy-mJ1-TA_o-py3.10/lib/python3.10/site-packages/sklearn/base.py:420: UserWarning: X does not have valid feature names, but MinMaxScaler was fitted with feature names\n",
      "  warnings.warn(\n",
      "/Users/s.hendrickson/Library/Caches/pypoetry/virtualenvs/loadflaskdeploy-mJ1-TA_o-py3.10/lib/python3.10/site-packages/sklearn/base.py:420: UserWarning: X does not have valid feature names, but MinMaxScaler was fitted with feature names\n",
      "  warnings.warn(\n",
      "/Users/s.hendrickson/Library/Caches/pypoetry/virtualenvs/loadflaskdeploy-mJ1-TA_o-py3.10/lib/python3.10/site-packages/sklearn/base.py:420: UserWarning: X does not have valid feature names, but MinMaxScaler was fitted with feature names\n",
      "  warnings.warn(\n"
     ]
    },
    {
     "name": "stdout",
     "output_type": "stream",
     "text": [
      "1/1 [==============================] - 0s 14ms/step\n",
      "1/1 [==============================] - 0s 13ms/step\n",
      "1/1 [==============================] - 0s 15ms/step\n",
      "1/1 [==============================] - 0s 14ms/step\n",
      "1/1 [==============================] - 0s 15ms/step\n"
     ]
    },
    {
     "name": "stderr",
     "output_type": "stream",
     "text": [
      "/Users/s.hendrickson/Library/Caches/pypoetry/virtualenvs/loadflaskdeploy-mJ1-TA_o-py3.10/lib/python3.10/site-packages/sklearn/base.py:420: UserWarning: X does not have valid feature names, but MinMaxScaler was fitted with feature names\n",
      "  warnings.warn(\n",
      "/Users/s.hendrickson/Library/Caches/pypoetry/virtualenvs/loadflaskdeploy-mJ1-TA_o-py3.10/lib/python3.10/site-packages/sklearn/base.py:420: UserWarning: X does not have valid feature names, but MinMaxScaler was fitted with feature names\n",
      "  warnings.warn(\n",
      "/Users/s.hendrickson/Library/Caches/pypoetry/virtualenvs/loadflaskdeploy-mJ1-TA_o-py3.10/lib/python3.10/site-packages/sklearn/base.py:420: UserWarning: X does not have valid feature names, but MinMaxScaler was fitted with feature names\n",
      "  warnings.warn(\n",
      "/Users/s.hendrickson/Library/Caches/pypoetry/virtualenvs/loadflaskdeploy-mJ1-TA_o-py3.10/lib/python3.10/site-packages/sklearn/base.py:420: UserWarning: X does not have valid feature names, but MinMaxScaler was fitted with feature names\n",
      "  warnings.warn(\n",
      "/Users/s.hendrickson/Library/Caches/pypoetry/virtualenvs/loadflaskdeploy-mJ1-TA_o-py3.10/lib/python3.10/site-packages/sklearn/base.py:420: UserWarning: X does not have valid feature names, but MinMaxScaler was fitted with feature names\n",
      "  warnings.warn(\n"
     ]
    },
    {
     "name": "stdout",
     "output_type": "stream",
     "text": [
      "1/1 [==============================] - 0s 16ms/step\n",
      "1/1 [==============================] - 0s 14ms/step\n",
      "1/1 [==============================] - 0s 14ms/step\n",
      "1/1 [==============================] - 0s 14ms/step\n",
      "1/1 [==============================] - 0s 14ms/step\n"
     ]
    },
    {
     "name": "stderr",
     "output_type": "stream",
     "text": [
      "/Users/s.hendrickson/Library/Caches/pypoetry/virtualenvs/loadflaskdeploy-mJ1-TA_o-py3.10/lib/python3.10/site-packages/sklearn/base.py:420: UserWarning: X does not have valid feature names, but MinMaxScaler was fitted with feature names\n",
      "  warnings.warn(\n",
      "/Users/s.hendrickson/Library/Caches/pypoetry/virtualenvs/loadflaskdeploy-mJ1-TA_o-py3.10/lib/python3.10/site-packages/sklearn/base.py:420: UserWarning: X does not have valid feature names, but MinMaxScaler was fitted with feature names\n",
      "  warnings.warn(\n",
      "/Users/s.hendrickson/Library/Caches/pypoetry/virtualenvs/loadflaskdeploy-mJ1-TA_o-py3.10/lib/python3.10/site-packages/sklearn/base.py:420: UserWarning: X does not have valid feature names, but MinMaxScaler was fitted with feature names\n",
      "  warnings.warn(\n",
      "/Users/s.hendrickson/Library/Caches/pypoetry/virtualenvs/loadflaskdeploy-mJ1-TA_o-py3.10/lib/python3.10/site-packages/sklearn/base.py:420: UserWarning: X does not have valid feature names, but MinMaxScaler was fitted with feature names\n",
      "  warnings.warn(\n",
      "/Users/s.hendrickson/Library/Caches/pypoetry/virtualenvs/loadflaskdeploy-mJ1-TA_o-py3.10/lib/python3.10/site-packages/sklearn/base.py:420: UserWarning: X does not have valid feature names, but MinMaxScaler was fitted with feature names\n",
      "  warnings.warn(\n"
     ]
    },
    {
     "name": "stdout",
     "output_type": "stream",
     "text": [
      "1/1 [==============================] - 0s 15ms/step\n",
      "1/1 [==============================] - 0s 14ms/step\n",
      "1/1 [==============================] - 0s 14ms/step\n",
      "1/1 [==============================] - 0s 14ms/step\n",
      "1/1 [==============================] - 0s 14ms/step\n"
     ]
    },
    {
     "name": "stderr",
     "output_type": "stream",
     "text": [
      "/Users/s.hendrickson/Library/Caches/pypoetry/virtualenvs/loadflaskdeploy-mJ1-TA_o-py3.10/lib/python3.10/site-packages/sklearn/base.py:420: UserWarning: X does not have valid feature names, but MinMaxScaler was fitted with feature names\n",
      "  warnings.warn(\n",
      "/Users/s.hendrickson/Library/Caches/pypoetry/virtualenvs/loadflaskdeploy-mJ1-TA_o-py3.10/lib/python3.10/site-packages/sklearn/base.py:420: UserWarning: X does not have valid feature names, but MinMaxScaler was fitted with feature names\n",
      "  warnings.warn(\n",
      "/Users/s.hendrickson/Library/Caches/pypoetry/virtualenvs/loadflaskdeploy-mJ1-TA_o-py3.10/lib/python3.10/site-packages/sklearn/base.py:420: UserWarning: X does not have valid feature names, but MinMaxScaler was fitted with feature names\n",
      "  warnings.warn(\n",
      "/Users/s.hendrickson/Library/Caches/pypoetry/virtualenvs/loadflaskdeploy-mJ1-TA_o-py3.10/lib/python3.10/site-packages/sklearn/base.py:420: UserWarning: X does not have valid feature names, but MinMaxScaler was fitted with feature names\n",
      "  warnings.warn(\n",
      "/Users/s.hendrickson/Library/Caches/pypoetry/virtualenvs/loadflaskdeploy-mJ1-TA_o-py3.10/lib/python3.10/site-packages/sklearn/base.py:420: UserWarning: X does not have valid feature names, but MinMaxScaler was fitted with feature names\n",
      "  warnings.warn(\n"
     ]
    },
    {
     "name": "stdout",
     "output_type": "stream",
     "text": [
      "1/1 [==============================] - 0s 14ms/step\n",
      "1/1 [==============================] - 0s 15ms/step\n",
      "1/1 [==============================] - 0s 15ms/step\n",
      "1/1 [==============================] - 0s 14ms/step\n",
      "1/1 [==============================] - 0s 14ms/step\n"
     ]
    },
    {
     "name": "stderr",
     "output_type": "stream",
     "text": [
      "/Users/s.hendrickson/Library/Caches/pypoetry/virtualenvs/loadflaskdeploy-mJ1-TA_o-py3.10/lib/python3.10/site-packages/sklearn/base.py:420: UserWarning: X does not have valid feature names, but MinMaxScaler was fitted with feature names\n",
      "  warnings.warn(\n",
      "/Users/s.hendrickson/Library/Caches/pypoetry/virtualenvs/loadflaskdeploy-mJ1-TA_o-py3.10/lib/python3.10/site-packages/sklearn/base.py:420: UserWarning: X does not have valid feature names, but MinMaxScaler was fitted with feature names\n",
      "  warnings.warn(\n",
      "/Users/s.hendrickson/Library/Caches/pypoetry/virtualenvs/loadflaskdeploy-mJ1-TA_o-py3.10/lib/python3.10/site-packages/sklearn/base.py:420: UserWarning: X does not have valid feature names, but MinMaxScaler was fitted with feature names\n",
      "  warnings.warn(\n",
      "/Users/s.hendrickson/Library/Caches/pypoetry/virtualenvs/loadflaskdeploy-mJ1-TA_o-py3.10/lib/python3.10/site-packages/sklearn/base.py:420: UserWarning: X does not have valid feature names, but MinMaxScaler was fitted with feature names\n",
      "  warnings.warn(\n",
      "/Users/s.hendrickson/Library/Caches/pypoetry/virtualenvs/loadflaskdeploy-mJ1-TA_o-py3.10/lib/python3.10/site-packages/sklearn/base.py:420: UserWarning: X does not have valid feature names, but MinMaxScaler was fitted with feature names\n",
      "  warnings.warn(\n"
     ]
    },
    {
     "name": "stdout",
     "output_type": "stream",
     "text": [
      "1/1 [==============================] - 0s 14ms/step\n",
      "1/1 [==============================] - 0s 14ms/step\n",
      "1/1 [==============================] - 0s 13ms/step\n",
      "1/1 [==============================] - 0s 14ms/step\n",
      "1/1 [==============================] - 0s 14ms/step\n"
     ]
    },
    {
     "name": "stderr",
     "output_type": "stream",
     "text": [
      "/Users/s.hendrickson/Library/Caches/pypoetry/virtualenvs/loadflaskdeploy-mJ1-TA_o-py3.10/lib/python3.10/site-packages/sklearn/base.py:420: UserWarning: X does not have valid feature names, but MinMaxScaler was fitted with feature names\n",
      "  warnings.warn(\n",
      "/Users/s.hendrickson/Library/Caches/pypoetry/virtualenvs/loadflaskdeploy-mJ1-TA_o-py3.10/lib/python3.10/site-packages/sklearn/base.py:420: UserWarning: X does not have valid feature names, but MinMaxScaler was fitted with feature names\n",
      "  warnings.warn(\n",
      "/Users/s.hendrickson/Library/Caches/pypoetry/virtualenvs/loadflaskdeploy-mJ1-TA_o-py3.10/lib/python3.10/site-packages/sklearn/base.py:420: UserWarning: X does not have valid feature names, but MinMaxScaler was fitted with feature names\n",
      "  warnings.warn(\n",
      "/Users/s.hendrickson/Library/Caches/pypoetry/virtualenvs/loadflaskdeploy-mJ1-TA_o-py3.10/lib/python3.10/site-packages/sklearn/base.py:420: UserWarning: X does not have valid feature names, but MinMaxScaler was fitted with feature names\n",
      "  warnings.warn(\n",
      "/Users/s.hendrickson/Library/Caches/pypoetry/virtualenvs/loadflaskdeploy-mJ1-TA_o-py3.10/lib/python3.10/site-packages/sklearn/base.py:420: UserWarning: X does not have valid feature names, but MinMaxScaler was fitted with feature names\n",
      "  warnings.warn(\n"
     ]
    },
    {
     "name": "stdout",
     "output_type": "stream",
     "text": [
      "1/1 [==============================] - 0s 15ms/step\n",
      "1/1 [==============================] - 0s 16ms/step\n",
      "1/1 [==============================] - 0s 14ms/step\n",
      "1/1 [==============================] - 0s 14ms/step\n",
      "1/1 [==============================] - 0s 14ms/step\n"
     ]
    },
    {
     "name": "stderr",
     "output_type": "stream",
     "text": [
      "/Users/s.hendrickson/Library/Caches/pypoetry/virtualenvs/loadflaskdeploy-mJ1-TA_o-py3.10/lib/python3.10/site-packages/sklearn/base.py:420: UserWarning: X does not have valid feature names, but MinMaxScaler was fitted with feature names\n",
      "  warnings.warn(\n",
      "/Users/s.hendrickson/Library/Caches/pypoetry/virtualenvs/loadflaskdeploy-mJ1-TA_o-py3.10/lib/python3.10/site-packages/sklearn/base.py:420: UserWarning: X does not have valid feature names, but MinMaxScaler was fitted with feature names\n",
      "  warnings.warn(\n",
      "/Users/s.hendrickson/Library/Caches/pypoetry/virtualenvs/loadflaskdeploy-mJ1-TA_o-py3.10/lib/python3.10/site-packages/sklearn/base.py:420: UserWarning: X does not have valid feature names, but MinMaxScaler was fitted with feature names\n",
      "  warnings.warn(\n",
      "/Users/s.hendrickson/Library/Caches/pypoetry/virtualenvs/loadflaskdeploy-mJ1-TA_o-py3.10/lib/python3.10/site-packages/sklearn/base.py:420: UserWarning: X does not have valid feature names, but MinMaxScaler was fitted with feature names\n",
      "  warnings.warn(\n",
      "/Users/s.hendrickson/Library/Caches/pypoetry/virtualenvs/loadflaskdeploy-mJ1-TA_o-py3.10/lib/python3.10/site-packages/sklearn/base.py:420: UserWarning: X does not have valid feature names, but MinMaxScaler was fitted with feature names\n",
      "  warnings.warn(\n"
     ]
    },
    {
     "name": "stdout",
     "output_type": "stream",
     "text": [
      "1/1 [==============================] - 0s 14ms/step\n",
      "1/1 [==============================] - 0s 14ms/step\n",
      "1/1 [==============================] - 0s 13ms/step\n",
      "1/1 [==============================] - 0s 14ms/step\n",
      "1/1 [==============================] - 0s 14ms/step\n"
     ]
    },
    {
     "name": "stderr",
     "output_type": "stream",
     "text": [
      "/Users/s.hendrickson/Library/Caches/pypoetry/virtualenvs/loadflaskdeploy-mJ1-TA_o-py3.10/lib/python3.10/site-packages/sklearn/base.py:420: UserWarning: X does not have valid feature names, but MinMaxScaler was fitted with feature names\n",
      "  warnings.warn(\n",
      "/Users/s.hendrickson/Library/Caches/pypoetry/virtualenvs/loadflaskdeploy-mJ1-TA_o-py3.10/lib/python3.10/site-packages/sklearn/base.py:420: UserWarning: X does not have valid feature names, but MinMaxScaler was fitted with feature names\n",
      "  warnings.warn(\n",
      "/Users/s.hendrickson/Library/Caches/pypoetry/virtualenvs/loadflaskdeploy-mJ1-TA_o-py3.10/lib/python3.10/site-packages/sklearn/base.py:420: UserWarning: X does not have valid feature names, but MinMaxScaler was fitted with feature names\n",
      "  warnings.warn(\n",
      "/Users/s.hendrickson/Library/Caches/pypoetry/virtualenvs/loadflaskdeploy-mJ1-TA_o-py3.10/lib/python3.10/site-packages/sklearn/base.py:420: UserWarning: X does not have valid feature names, but MinMaxScaler was fitted with feature names\n",
      "  warnings.warn(\n",
      "/Users/s.hendrickson/Library/Caches/pypoetry/virtualenvs/loadflaskdeploy-mJ1-TA_o-py3.10/lib/python3.10/site-packages/sklearn/base.py:420: UserWarning: X does not have valid feature names, but MinMaxScaler was fitted with feature names\n",
      "  warnings.warn(\n"
     ]
    },
    {
     "name": "stdout",
     "output_type": "stream",
     "text": [
      "1/1 [==============================] - 0s 15ms/step\n",
      "1/1 [==============================] - 0s 14ms/step\n",
      "1/1 [==============================] - 0s 16ms/step\n",
      "1/1 [==============================] - 0s 14ms/step\n",
      "1/1 [==============================] - 0s 14ms/step\n"
     ]
    },
    {
     "name": "stderr",
     "output_type": "stream",
     "text": [
      "/Users/s.hendrickson/Library/Caches/pypoetry/virtualenvs/loadflaskdeploy-mJ1-TA_o-py3.10/lib/python3.10/site-packages/sklearn/base.py:420: UserWarning: X does not have valid feature names, but MinMaxScaler was fitted with feature names\n",
      "  warnings.warn(\n",
      "/Users/s.hendrickson/Library/Caches/pypoetry/virtualenvs/loadflaskdeploy-mJ1-TA_o-py3.10/lib/python3.10/site-packages/sklearn/base.py:420: UserWarning: X does not have valid feature names, but MinMaxScaler was fitted with feature names\n",
      "  warnings.warn(\n",
      "/Users/s.hendrickson/Library/Caches/pypoetry/virtualenvs/loadflaskdeploy-mJ1-TA_o-py3.10/lib/python3.10/site-packages/sklearn/base.py:420: UserWarning: X does not have valid feature names, but MinMaxScaler was fitted with feature names\n",
      "  warnings.warn(\n",
      "/Users/s.hendrickson/Library/Caches/pypoetry/virtualenvs/loadflaskdeploy-mJ1-TA_o-py3.10/lib/python3.10/site-packages/sklearn/base.py:420: UserWarning: X does not have valid feature names, but MinMaxScaler was fitted with feature names\n",
      "  warnings.warn(\n",
      "/Users/s.hendrickson/Library/Caches/pypoetry/virtualenvs/loadflaskdeploy-mJ1-TA_o-py3.10/lib/python3.10/site-packages/sklearn/base.py:420: UserWarning: X does not have valid feature names, but MinMaxScaler was fitted with feature names\n",
      "  warnings.warn(\n"
     ]
    },
    {
     "name": "stdout",
     "output_type": "stream",
     "text": [
      "1/1 [==============================] - 0s 14ms/step\n",
      "1/1 [==============================] - 0s 15ms/step\n",
      "1/1 [==============================] - 0s 14ms/step\n",
      "1/1 [==============================] - 0s 14ms/step\n",
      "1/1 [==============================] - 0s 14ms/step\n"
     ]
    },
    {
     "name": "stderr",
     "output_type": "stream",
     "text": [
      "/Users/s.hendrickson/Library/Caches/pypoetry/virtualenvs/loadflaskdeploy-mJ1-TA_o-py3.10/lib/python3.10/site-packages/sklearn/base.py:420: UserWarning: X does not have valid feature names, but MinMaxScaler was fitted with feature names\n",
      "  warnings.warn(\n",
      "/Users/s.hendrickson/Library/Caches/pypoetry/virtualenvs/loadflaskdeploy-mJ1-TA_o-py3.10/lib/python3.10/site-packages/sklearn/base.py:420: UserWarning: X does not have valid feature names, but MinMaxScaler was fitted with feature names\n",
      "  warnings.warn(\n",
      "/Users/s.hendrickson/Library/Caches/pypoetry/virtualenvs/loadflaskdeploy-mJ1-TA_o-py3.10/lib/python3.10/site-packages/sklearn/base.py:420: UserWarning: X does not have valid feature names, but MinMaxScaler was fitted with feature names\n",
      "  warnings.warn(\n",
      "/Users/s.hendrickson/Library/Caches/pypoetry/virtualenvs/loadflaskdeploy-mJ1-TA_o-py3.10/lib/python3.10/site-packages/sklearn/base.py:420: UserWarning: X does not have valid feature names, but MinMaxScaler was fitted with feature names\n",
      "  warnings.warn(\n",
      "/Users/s.hendrickson/Library/Caches/pypoetry/virtualenvs/loadflaskdeploy-mJ1-TA_o-py3.10/lib/python3.10/site-packages/sklearn/base.py:420: UserWarning: X does not have valid feature names, but MinMaxScaler was fitted with feature names\n",
      "  warnings.warn(\n"
     ]
    },
    {
     "name": "stdout",
     "output_type": "stream",
     "text": [
      "1/1 [==============================] - 0s 15ms/step\n",
      "1/1 [==============================] - 0s 16ms/step\n",
      "1/1 [==============================] - 0s 14ms/step\n",
      "1/1 [==============================] - 0s 15ms/step\n",
      "1/1 [==============================] - 0s 15ms/step\n"
     ]
    },
    {
     "name": "stderr",
     "output_type": "stream",
     "text": [
      "/Users/s.hendrickson/Library/Caches/pypoetry/virtualenvs/loadflaskdeploy-mJ1-TA_o-py3.10/lib/python3.10/site-packages/sklearn/base.py:420: UserWarning: X does not have valid feature names, but MinMaxScaler was fitted with feature names\n",
      "  warnings.warn(\n",
      "/Users/s.hendrickson/Library/Caches/pypoetry/virtualenvs/loadflaskdeploy-mJ1-TA_o-py3.10/lib/python3.10/site-packages/sklearn/base.py:420: UserWarning: X does not have valid feature names, but MinMaxScaler was fitted with feature names\n",
      "  warnings.warn(\n",
      "/Users/s.hendrickson/Library/Caches/pypoetry/virtualenvs/loadflaskdeploy-mJ1-TA_o-py3.10/lib/python3.10/site-packages/sklearn/base.py:420: UserWarning: X does not have valid feature names, but MinMaxScaler was fitted with feature names\n",
      "  warnings.warn(\n",
      "/Users/s.hendrickson/Library/Caches/pypoetry/virtualenvs/loadflaskdeploy-mJ1-TA_o-py3.10/lib/python3.10/site-packages/sklearn/base.py:420: UserWarning: X does not have valid feature names, but MinMaxScaler was fitted with feature names\n",
      "  warnings.warn(\n"
     ]
    },
    {
     "name": "stdout",
     "output_type": "stream",
     "text": [
      "1/1 [==============================] - 0s 14ms/step\n",
      "1/1 [==============================] - 0s 15ms/step\n",
      "1/1 [==============================] - 0s 15ms/step\n",
      "1/1 [==============================] - 0s 14ms/step\n"
     ]
    },
    {
     "name": "stderr",
     "output_type": "stream",
     "text": [
      "/Users/s.hendrickson/Library/Caches/pypoetry/virtualenvs/loadflaskdeploy-mJ1-TA_o-py3.10/lib/python3.10/site-packages/sklearn/base.py:420: UserWarning: X does not have valid feature names, but MinMaxScaler was fitted with feature names\n",
      "  warnings.warn(\n",
      "/Users/s.hendrickson/Library/Caches/pypoetry/virtualenvs/loadflaskdeploy-mJ1-TA_o-py3.10/lib/python3.10/site-packages/sklearn/base.py:420: UserWarning: X does not have valid feature names, but MinMaxScaler was fitted with feature names\n",
      "  warnings.warn(\n",
      "/Users/s.hendrickson/Library/Caches/pypoetry/virtualenvs/loadflaskdeploy-mJ1-TA_o-py3.10/lib/python3.10/site-packages/sklearn/base.py:420: UserWarning: X does not have valid feature names, but MinMaxScaler was fitted with feature names\n",
      "  warnings.warn(\n",
      "/Users/s.hendrickson/Library/Caches/pypoetry/virtualenvs/loadflaskdeploy-mJ1-TA_o-py3.10/lib/python3.10/site-packages/sklearn/base.py:420: UserWarning: X does not have valid feature names, but MinMaxScaler was fitted with feature names\n",
      "  warnings.warn(\n",
      "/Users/s.hendrickson/Library/Caches/pypoetry/virtualenvs/loadflaskdeploy-mJ1-TA_o-py3.10/lib/python3.10/site-packages/sklearn/base.py:420: UserWarning: X does not have valid feature names, but MinMaxScaler was fitted with feature names\n",
      "  warnings.warn(\n"
     ]
    },
    {
     "name": "stdout",
     "output_type": "stream",
     "text": [
      "1/1 [==============================] - 0s 15ms/step\n",
      "1/1 [==============================] - 0s 16ms/step\n",
      "1/1 [==============================] - 0s 14ms/step\n",
      "1/1 [==============================] - 0s 13ms/step\n",
      "1/1 [==============================] - 0s 14ms/step\n"
     ]
    },
    {
     "name": "stderr",
     "output_type": "stream",
     "text": [
      "/Users/s.hendrickson/Library/Caches/pypoetry/virtualenvs/loadflaskdeploy-mJ1-TA_o-py3.10/lib/python3.10/site-packages/sklearn/base.py:420: UserWarning: X does not have valid feature names, but MinMaxScaler was fitted with feature names\n",
      "  warnings.warn(\n",
      "/Users/s.hendrickson/Library/Caches/pypoetry/virtualenvs/loadflaskdeploy-mJ1-TA_o-py3.10/lib/python3.10/site-packages/sklearn/base.py:420: UserWarning: X does not have valid feature names, but MinMaxScaler was fitted with feature names\n",
      "  warnings.warn(\n",
      "/Users/s.hendrickson/Library/Caches/pypoetry/virtualenvs/loadflaskdeploy-mJ1-TA_o-py3.10/lib/python3.10/site-packages/sklearn/base.py:420: UserWarning: X does not have valid feature names, but MinMaxScaler was fitted with feature names\n",
      "  warnings.warn(\n",
      "/Users/s.hendrickson/Library/Caches/pypoetry/virtualenvs/loadflaskdeploy-mJ1-TA_o-py3.10/lib/python3.10/site-packages/sklearn/base.py:420: UserWarning: X does not have valid feature names, but MinMaxScaler was fitted with feature names\n",
      "  warnings.warn(\n",
      "/Users/s.hendrickson/Library/Caches/pypoetry/virtualenvs/loadflaskdeploy-mJ1-TA_o-py3.10/lib/python3.10/site-packages/sklearn/base.py:420: UserWarning: X does not have valid feature names, but MinMaxScaler was fitted with feature names\n",
      "  warnings.warn(\n"
     ]
    },
    {
     "name": "stdout",
     "output_type": "stream",
     "text": [
      "1/1 [==============================] - 0s 13ms/step\n",
      "1/1 [==============================] - 0s 13ms/step\n",
      "1/1 [==============================] - 0s 14ms/step\n",
      "1/1 [==============================] - 0s 14ms/step\n",
      "1/1 [==============================] - 0s 14ms/step\n"
     ]
    },
    {
     "name": "stderr",
     "output_type": "stream",
     "text": [
      "/Users/s.hendrickson/Library/Caches/pypoetry/virtualenvs/loadflaskdeploy-mJ1-TA_o-py3.10/lib/python3.10/site-packages/sklearn/base.py:420: UserWarning: X does not have valid feature names, but MinMaxScaler was fitted with feature names\n",
      "  warnings.warn(\n",
      "/Users/s.hendrickson/Library/Caches/pypoetry/virtualenvs/loadflaskdeploy-mJ1-TA_o-py3.10/lib/python3.10/site-packages/sklearn/base.py:420: UserWarning: X does not have valid feature names, but MinMaxScaler was fitted with feature names\n",
      "  warnings.warn(\n",
      "/Users/s.hendrickson/Library/Caches/pypoetry/virtualenvs/loadflaskdeploy-mJ1-TA_o-py3.10/lib/python3.10/site-packages/sklearn/base.py:420: UserWarning: X does not have valid feature names, but MinMaxScaler was fitted with feature names\n",
      "  warnings.warn(\n",
      "/Users/s.hendrickson/Library/Caches/pypoetry/virtualenvs/loadflaskdeploy-mJ1-TA_o-py3.10/lib/python3.10/site-packages/sklearn/base.py:420: UserWarning: X does not have valid feature names, but MinMaxScaler was fitted with feature names\n",
      "  warnings.warn(\n",
      "/Users/s.hendrickson/Library/Caches/pypoetry/virtualenvs/loadflaskdeploy-mJ1-TA_o-py3.10/lib/python3.10/site-packages/sklearn/base.py:420: UserWarning: X does not have valid feature names, but MinMaxScaler was fitted with feature names\n",
      "  warnings.warn(\n"
     ]
    },
    {
     "name": "stdout",
     "output_type": "stream",
     "text": [
      "1/1 [==============================] - 0s 13ms/step\n",
      "1/1 [==============================] - 0s 15ms/step\n",
      "1/1 [==============================] - 0s 15ms/step\n",
      "1/1 [==============================] - 0s 13ms/step\n",
      "1/1 [==============================] - ETA: 0s"
     ]
    },
    {
     "name": "stderr",
     "output_type": "stream",
     "text": [
      "/Users/s.hendrickson/Library/Caches/pypoetry/virtualenvs/loadflaskdeploy-mJ1-TA_o-py3.10/lib/python3.10/site-packages/sklearn/base.py:420: UserWarning: X does not have valid feature names, but MinMaxScaler was fitted with feature names\n",
      "  warnings.warn(\n",
      "/Users/s.hendrickson/Library/Caches/pypoetry/virtualenvs/loadflaskdeploy-mJ1-TA_o-py3.10/lib/python3.10/site-packages/sklearn/base.py:420: UserWarning: X does not have valid feature names, but MinMaxScaler was fitted with feature names\n",
      "  warnings.warn(\n",
      "/Users/s.hendrickson/Library/Caches/pypoetry/virtualenvs/loadflaskdeploy-mJ1-TA_o-py3.10/lib/python3.10/site-packages/sklearn/base.py:420: UserWarning: X does not have valid feature names, but MinMaxScaler was fitted with feature names\n",
      "  warnings.warn(\n",
      "/Users/s.hendrickson/Library/Caches/pypoetry/virtualenvs/loadflaskdeploy-mJ1-TA_o-py3.10/lib/python3.10/site-packages/sklearn/base.py:420: UserWarning: X does not have valid feature names, but MinMaxScaler was fitted with feature names\n",
      "  warnings.warn(\n"
     ]
    },
    {
     "name": "stdout",
     "output_type": "stream",
     "text": [
      "1/1 [==============================] - 0s 14ms/step\n",
      "1/1 [==============================] - 0s 15ms/step\n",
      "1/1 [==============================] - 0s 13ms/step\n",
      "1/1 [==============================] - 0s 15ms/step\n"
     ]
    },
    {
     "name": "stderr",
     "output_type": "stream",
     "text": [
      "/Users/s.hendrickson/Library/Caches/pypoetry/virtualenvs/loadflaskdeploy-mJ1-TA_o-py3.10/lib/python3.10/site-packages/sklearn/base.py:420: UserWarning: X does not have valid feature names, but MinMaxScaler was fitted with feature names\n",
      "  warnings.warn(\n",
      "/Users/s.hendrickson/Library/Caches/pypoetry/virtualenvs/loadflaskdeploy-mJ1-TA_o-py3.10/lib/python3.10/site-packages/sklearn/base.py:420: UserWarning: X does not have valid feature names, but MinMaxScaler was fitted with feature names\n",
      "  warnings.warn(\n",
      "/Users/s.hendrickson/Library/Caches/pypoetry/virtualenvs/loadflaskdeploy-mJ1-TA_o-py3.10/lib/python3.10/site-packages/sklearn/base.py:420: UserWarning: X does not have valid feature names, but MinMaxScaler was fitted with feature names\n",
      "  warnings.warn(\n"
     ]
    },
    {
     "data": {
      "text/plain": [
       "[<matplotlib.lines.Line2D at 0x137eed120>]"
      ]
     },
     "execution_count": 44,
     "metadata": {},
     "output_type": "execute_result"
    },
    {
     "data": {
      "image/png": "[encoded data removed]",
      "text/plain": [
       "<Figure size 640x480 with 1 Axes>"
      ]
     },
     "metadata": {},
     "output_type": "display_data"
    }
   ],
   "source": [
    "data=[]\n",
    "for rr in range(45, 195, 5):\n",
    "    data.append((rr, scan_for_replicas(model, scaler, rr, 4)))\n",
    "\n",
    "data = np.array(data)\n",
    "plt.plot(data.T[0], data.T[1])    "
   ]
  },
  {
   "cell_type": "markdown",
   "id": "82c60cad",
   "metadata": {},
   "source": [
    "### To Do\n",
    "* correlations between client and server metrics\n",
    "* what parameters to scan with more tests?\n",
    "* how long is 10K transactions?"
   ]
  },
  {
   "cell_type": "code",
   "execution_count": null,
   "id": "2442bd5f",
   "metadata": {},
   "outputs": [],
   "source": []
  }
 ],
 "metadata": {
  "kernelspec": {
   "display_name": "Python 3 (ipykernel)",
   "language": "python",
   "name": "python3"
  },
  "language_info": {
   "codemirror_mode": {
    "name": "ipython",
    "version": 3
   },
   "file_extension": ".py",
   "mimetype": "text/x-python",
   "name": "python",
   "nbconvert_exporter": "python",
   "pygments_lexer": "ipython3",
   "version": "3.10.9"
  }
 },
 "nbformat": 4,
 "nbformat_minor": 5
}
