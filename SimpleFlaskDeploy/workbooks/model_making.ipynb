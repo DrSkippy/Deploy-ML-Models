{
 "cells": [
  {
   "cell_type": "markdown",
   "id": "bfa1035f",
   "metadata": {},
   "source": [
    "# Simple Model Build Example\n",
    "### Part II -- Next up Simple Model Deploy on K8s\n",
    "2022 June 1\n",
    "\n",
    "### The Job is to predict level adult earnings per year\n",
    "\n",
    "Data we have available has incomes above or below $50K based on deomographics \n",
    "\n",
    "![alt text](../img/model_grid.png \"Model Grid\")"
   ]
  },
  {
   "cell_type": "code",
   "execution_count": null,
   "id": "cca4ef1a",
   "metadata": {},
   "outputs": [],
   "source": [
    "import pandas as pd\n",
    "import numpy as np\n",
    "from matplotlib import pyplot as plt\n",
    "\n",
    "from model.training_data import *\n",
    "\n",
    "%matplotlib inline"
   ]
  },
  {
   "cell_type": "code",
   "execution_count": null,
   "id": "069da100",
   "metadata": {},
   "outputs": [],
   "source": [
    "print(file_path)\n",
    "!ls $file_path"
   ]
  },
  {
   "cell_type": "code",
   "execution_count": null,
   "id": "50febe35",
   "metadata": {},
   "outputs": [],
   "source": [
    "header = get_header()\n",
    "print(\"\\n\".join(header))"
   ]
  },
  {
   "cell_type": "code",
   "execution_count": null,
   "id": "d11ab453",
   "metadata": {},
   "outputs": [],
   "source": [
    "df = get_training_dataframe()\n",
    "df.head(10)"
   ]
  },
  {
   "cell_type": "markdown",
   "id": "4eb9415d",
   "metadata": {},
   "source": [
    "## Explore the Data"
   ]
  },
  {
   "cell_type": "code",
   "execution_count": null,
   "id": "ea4de3c0",
   "metadata": {},
   "outputs": [],
   "source": [
    "df.info()"
   ]
  },
  {
   "cell_type": "code",
   "execution_count": null,
   "id": "4dbc4197",
   "metadata": {},
   "outputs": [],
   "source": [
    "df.describe()"
   ]
  },
  {
   "cell_type": "code",
   "execution_count": null,
   "id": "456c1ffc",
   "metadata": {},
   "outputs": [],
   "source": [
    "for h in header:\n",
    "    n = len(df[h].value_counts())\n",
    "    if n < 20:\n",
    "        print(\"##################################\")\n",
    "        print(f\"{h}: {n}\")\n",
    "        print(df[h].value_counts())"
   ]
  },
  {
   "cell_type": "markdown",
   "id": "e04eb64a",
   "metadata": {},
   "source": [
    "### Encoding classes will help a classifiers include all the inforamtion available\n",
    "Start with an easy one...Sex in this data set has only 2 values."
   ]
  },
  {
   "cell_type": "code",
   "execution_count": null,
   "id": "809c7164",
   "metadata": {},
   "outputs": [],
   "source": [
    "# input encodings\n",
    "df[\"sex-val\"] = df[\"sex\"].apply(lambda x: 1 if \"M\" in x else 0)\n",
    "df[[\"sex\", \"sex-val\"]].head(10)"
   ]
  },
  {
   "cell_type": "markdown",
   "id": "2126bdb7",
   "metadata": {},
   "source": [
    "### Start modeling with a simple case -- only encoded or continuous data"
   ]
  },
  {
   "cell_type": "code",
   "execution_count": null,
   "id": "692d337e",
   "metadata": {},
   "outputs": [],
   "source": [
    "dft = df[['age','fnlwgt','sex-val','education-num', \"capital-gain\", \"capital-loss\", \"hours-per-week\"]].copy()\n",
    "y = df[\"class\"]"
   ]
  },
  {
   "cell_type": "code",
   "execution_count": null,
   "id": "673ab14b",
   "metadata": {},
   "outputs": [],
   "source": [
    "from sklearn.model_selection import train_test_split\n",
    "from sklearn.tree import DecisionTreeClassifier\n",
    "from sklearn.metrics import classification_report\n",
    "from sklearn import tree"
   ]
  },
  {
   "cell_type": "markdown",
   "id": "a0c1883f",
   "metadata": {},
   "source": [
    "### Testing and Training sets help us evaluate performance\n",
    "\n",
    "![alt text](../img/test_train_split.png \"Test Train Split\")\n"
   ]
  },
  {
   "cell_type": "code",
   "execution_count": null,
   "id": "be6df414",
   "metadata": {},
   "outputs": [],
   "source": [
    "X_train, X_test, y_train, y_test = train_test_split(dft, y)"
   ]
  },
  {
   "cell_type": "code",
   "execution_count": null,
   "id": "4b698e1f",
   "metadata": {},
   "outputs": [],
   "source": [
    "dec_tree=DecisionTreeClassifier().fit(X_train, y_train)\n",
    "a = dec_tree.score(X_test, y_test)\n",
    "print('Accuracy is: %', a*100)"
   ]
  },
  {
   "cell_type": "code",
   "execution_count": null,
   "id": "63978421",
   "metadata": {},
   "outputs": [],
   "source": [
    "y_preds = dec_tree.predict(X_test)\n",
    "print(classification_report(y_test, y_preds))"
   ]
  },
  {
   "cell_type": "markdown",
   "id": "4667c0ef",
   "metadata": {},
   "source": [
    "### Let's look at the decision tree...\n",
    "\n",
    "High dimensionality, so maybe too complex to be explanatory? Also, maybe generate some skepticism on how will it will generalize?"
   ]
  },
  {
   "cell_type": "code",
   "execution_count": null,
   "id": "a297aa8a",
   "metadata": {},
   "outputs": [],
   "source": [
    "text_representation = tree.export_text(dec_tree)\n",
    "print(text_representation)"
   ]
  },
  {
   "cell_type": "markdown",
   "id": "3dd67618",
   "metadata": {},
   "source": [
    "### Does it help to normalize continuous values?"
   ]
  },
  {
   "cell_type": "code",
   "execution_count": null,
   "id": "2a6ccee7",
   "metadata": {},
   "outputs": [],
   "source": [
    "#Normalizing the data\n",
    "from sklearn.preprocessing import StandardScaler\n",
    "sc = StandardScaler()\n",
    "X_train = sc.fit_transform(X_train)\n",
    "X_test = sc.transform(X_test)"
   ]
  },
  {
   "cell_type": "code",
   "execution_count": null,
   "id": "f1381873",
   "metadata": {},
   "outputs": [],
   "source": [
    "test_dec_tree=DecisionTreeClassifier().fit(X_train, y_train)"
   ]
  },
  {
   "cell_type": "code",
   "execution_count": null,
   "id": "22cb5e33",
   "metadata": {},
   "outputs": [],
   "source": [
    "a = test_dec_tree.score(X_test, y_test)\n",
    "print('Accuracy is: %', a*100)"
   ]
  },
  {
   "cell_type": "code",
   "execution_count": null,
   "id": "5c65ecef",
   "metadata": {},
   "outputs": [],
   "source": [
    "y_preds = test_dec_tree.predict(X_test)\n",
    "print(classification_report(y_test, y_preds))"
   ]
  },
  {
   "cell_type": "markdown",
   "id": "2b562982",
   "metadata": {},
   "source": [
    "## Try Deep Learning Model\n",
    "\n",
    "Requires \"1-hot\" class incoding"
   ]
  },
  {
   "cell_type": "code",
   "execution_count": null,
   "id": "93726af6",
   "metadata": {},
   "outputs": [],
   "source": [
    "# output encodings\n",
    "df[\"gt50k\"] = df[\"class\"].apply(lambda x: 1 if \">\" in x else 0)\n",
    "df[\"lte50k\"] = df[\"class\"].apply(lambda x: 1 if \"<=\" in x else 0)\n",
    "df.head(10)"
   ]
  },
  {
   "cell_type": "code",
   "execution_count": null,
   "id": "9c7a39c1",
   "metadata": {},
   "outputs": [],
   "source": [
    "import keras\n",
    "from keras.models import Sequential\n",
    "from keras.layers import Dense\n",
    "from sklearn.preprocessing import StandardScaler"
   ]
  },
  {
   "cell_type": "code",
   "execution_count": null,
   "id": "1c38ffa6",
   "metadata": {},
   "outputs": [],
   "source": [
    "# Testing/Training Split\n",
    "dy = df[[\"gt50k\", \"lte50k\"]]\n",
    "X_train, X_test, y_train, y_test = train_test_split(dft, dy)"
   ]
  },
  {
   "cell_type": "code",
   "execution_count": null,
   "id": "51d4a798",
   "metadata": {},
   "outputs": [],
   "source": [
    "#Normalizing the data\n",
    "nnsc = StandardScaler()\n",
    "X_train = nnsc.fit_transform(X_train)\n",
    "X_test = nnsc.transform(X_test)"
   ]
  },
  {
   "cell_type": "code",
   "execution_count": null,
   "id": "34256c8e",
   "metadata": {},
   "outputs": [],
   "source": [
    "# Neural network\n",
    "model = Sequential()\n",
    "model.add(Dense(20, input_dim=7, activation='relu'))\n",
    "model.add(Dense(16, activation='relu'))\n",
    "model.add(Dense(2, activation='softmax'))\n",
    "print(model.summary())"
   ]
  },
  {
   "cell_type": "code",
   "execution_count": null,
   "id": "0f67f753",
   "metadata": {},
   "outputs": [],
   "source": [
    "model.compile(loss='categorical_crossentropy', optimizer='adam', metrics=['accuracy'])"
   ]
  },
  {
   "cell_type": "code",
   "execution_count": null,
   "id": "c688f9bd",
   "metadata": {},
   "outputs": [],
   "source": [
    "history = model.fit(X_train, y_train,validation_data = (X_test,y_test), epochs=100, batch_size=64)"
   ]
  },
  {
   "cell_type": "code",
   "execution_count": null,
   "id": "f8d2e71a",
   "metadata": {},
   "outputs": [],
   "source": [
    "y_pred = model.predict(X_test)"
   ]
  },
  {
   "cell_type": "code",
   "execution_count": null,
   "id": "e5dd2ea7",
   "metadata": {},
   "outputs": [],
   "source": [
    "#Converting 1-hot predictions to class label\n",
    "pred = list()\n",
    "for i in range(len(y_pred)):\n",
    "    pred.append(np.argmax(y_pred[i]))"
   ]
  },
  {
   "cell_type": "code",
   "execution_count": null,
   "id": "c1928784",
   "metadata": {},
   "outputs": [],
   "source": [
    "# Because 1-hot is (0,1), this is also class label index\n",
    "test = list(y_test.lte50k)"
   ]
  },
  {
   "cell_type": "code",
   "execution_count": null,
   "id": "0457a81f",
   "metadata": {},
   "outputs": [],
   "source": [
    "from sklearn.metrics import accuracy_score\n",
    "a = accuracy_score(pred,test)\n",
    "print('Accuracy is: %', a*100)"
   ]
  },
  {
   "cell_type": "code",
   "execution_count": null,
   "id": "895f0e13",
   "metadata": {},
   "outputs": [],
   "source": [
    "print(classification_report(test, pred))"
   ]
  },
  {
   "cell_type": "code",
   "execution_count": null,
   "id": "4c8b231b",
   "metadata": {},
   "outputs": [],
   "source": [
    "import matplotlib.pyplot as plt\n",
    "plt.plot(history.history['accuracy'])\n",
    "plt.plot(history.history['val_accuracy'])\n",
    "plt.title('Model accuracy')\n",
    "plt.ylabel('Accuracy')\n",
    "plt.xlabel('Epoch')\n",
    "plt.legend(['Train', 'Test'], loc='upper left')\n",
    "plt.show()"
   ]
  },
  {
   "cell_type": "code",
   "execution_count": null,
   "id": "e12bb507",
   "metadata": {},
   "outputs": [],
   "source": [
    "plt.plot(history.history['loss']) \n",
    "plt.plot(history.history['val_loss']) \n",
    "plt.title('Model loss') \n",
    "plt.ylabel('Loss') \n",
    "plt.xlabel('Epoch') \n",
    "plt.legend(['Train', 'Test'], loc='upper left') \n",
    "plt.show()"
   ]
  },
  {
   "cell_type": "markdown",
   "id": "8baaeefb",
   "metadata": {},
   "source": [
    "## Save trained models for use in prediction algorithms"
   ]
  },
  {
   "cell_type": "code",
   "execution_count": null,
   "id": "7e83cb7e",
   "metadata": {},
   "outputs": [],
   "source": [
    "from joblib import dump, load\n",
    "dump(dec_tree, \"decision_tree.pkl\")\n",
    "dump(model, \"neural_net.pkl\")\n",
    "# dump(sc, \"decision_tree_scaler.pkl\")\n",
    "dump(nnsc, \"neural_net_scaler.pkl\")"
   ]
  },
  {
   "cell_type": "code",
   "execution_count": null,
   "id": "859364ac",
   "metadata": {},
   "outputs": [],
   "source": []
  }
 ],
 "metadata": {
  "kernelspec": {
   "display_name": "Python 3 (ipykernel)",
   "language": "python",
   "name": "python3"
  },
  "language_info": {
   "codemirror_mode": {
    "name": "ipython",
    "version": 3
   },
   "file_extension": ".py",
   "mimetype": "text/x-python",
   "name": "python",
   "nbconvert_exporter": "python",
   "pygments_lexer": "ipython3",
   "version": "3.8.12"
  }
 },
 "nbformat": 4,
 "nbformat_minor": 5
}
