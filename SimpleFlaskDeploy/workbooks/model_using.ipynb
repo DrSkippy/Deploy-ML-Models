{
 "cells": [
  {
   "cell_type": "code",
   "execution_count": 1,
   "id": "6d8fcaf0",
   "metadata": {},
   "outputs": [],
   "source": [
    "from joblib import dump, load\n",
    "from model.training_data import *"
   ]
  },
  {
   "cell_type": "markdown",
   "id": "74e4277c",
   "metadata": {},
   "source": [
    "## Decision Tree"
   ]
  },
  {
   "cell_type": "code",
   "execution_count": 2,
   "id": "d75c6f57",
   "metadata": {},
   "outputs": [],
   "source": [
    "dt = load(\"../data/decision_tree.pkl\")"
   ]
  },
  {
   "cell_type": "code",
   "execution_count": 3,
   "id": "3e27e8b6",
   "metadata": {},
   "outputs": [
    {
     "name": "stdout",
     "output_type": "stream",
     "text": [
      "[[    49 148437      1     13      0      0     60]\n",
      " [    24  72119      1     13   2202      0     30]\n",
      " [    24 203518      0     13      0      0     40]\n",
      " [    37 123586      1     13      0   1902     73]\n",
      " [    53 424079      1     14  15024      0     55]\n",
      " [    25 201579      1      5      0      0     40]\n",
      " [    36 155537      1      9      0      0     40]\n",
      " [    62 153891      1     13      0      0     50]\n",
      " [    26 250261      1      2      0      0     55]\n",
      " [    24 191269      0     13      0      0     65]\n",
      " [    44 225263      0     10      0   1408     46]\n",
      " [    30 119197      1     14      0      0     50]\n",
      " [    23  86939      1      9      0      0     40]\n",
      " [    67 110122      1      9      0      0     32]\n",
      " [    22 102632      1      9      0      0     41]\n",
      " [    30 214993      1      9      0      0     40]\n",
      " [    22 211798      1     11      0      0     10]\n",
      " [    44 151780      0     10      0      0     40]\n",
      " [    43  60001      1     10      0      0     40]\n",
      " [    31  85077      0     13      0   1902     20]\n",
      " [    35  28572      1      7      0      0     40]\n",
      " [    23 334357      0      9      0      0     40]\n",
      " [    18 387641      1     10      0      0     40]\n",
      " [    27 106562      0     13      0      0     50]]\n"
     ]
    }
   ],
   "source": [
    "data = random_feature_sample_array(n=24)\n",
    "print(data)"
   ]
  },
  {
   "cell_type": "code",
   "execution_count": 4,
   "id": "e73d0d96",
   "metadata": {},
   "outputs": [
    {
     "name": "stdout",
     "output_type": "stream",
     "text": [
      "[' <=50K' ' <=50K' ' <=50K' ' >50K' ' >50K' ' <=50K' ' <=50K' ' >50K'\n",
      " ' <=50K' ' <=50K' ' <=50K' ' <=50K' ' <=50K' ' >50K' ' <=50K' ' <=50K'\n",
      " ' <=50K' ' <=50K' ' <=50K' ' >50K' ' <=50K' ' <=50K' ' <=50K' ' <=50K']\n"
     ]
    },
    {
     "name": "stderr",
     "output_type": "stream",
     "text": [
      "/home/scott/.cache/pypoetry/virtualenvs/deploymachinelearningmodelstoproduction-si-wSOjrWpr-py3.8/lib/python3.8/site-packages/sklearn/base.py:450: UserWarning: X does not have valid feature names, but DecisionTreeClassifier was fitted with feature names\n",
      "  warnings.warn(\n"
     ]
    }
   ],
   "source": [
    "prediction = dt.predict(data)\n",
    "print(prediction)"
   ]
  },
  {
   "cell_type": "markdown",
   "id": "e9a1608f",
   "metadata": {},
   "source": [
    "## Deep NN"
   ]
  },
  {
   "cell_type": "code",
   "execution_count": 5,
   "id": "e6db76c3",
   "metadata": {},
   "outputs": [
    {
     "name": "stderr",
     "output_type": "stream",
     "text": [
      "2022-06-01 18:02:55.535621: I tensorflow/stream_executor/cuda/cuda_gpu_executor.cc:975] successful NUMA node read from SysFS had negative value (-1), but there must be at least one NUMA node, so returning NUMA node zero\n",
      "2022-06-01 18:02:55.557305: W tensorflow/stream_executor/platform/default/dso_loader.cc:64] Could not load dynamic library 'libcudnn.so.8'; dlerror: libcudnn.so.8: cannot open shared object file: No such file or directory; LD_LIBRARY_PATH: /usr/lib/cuda/include:/usr/lib/cuda/lib64:\n",
      "2022-06-01 18:02:55.557332: W tensorflow/core/common_runtime/gpu/gpu_device.cc:1850] Cannot dlopen some GPU libraries. Please make sure the missing libraries mentioned above are installed properly if you would like to use GPU. Follow the guide at https://www.tensorflow.org/install/gpu for how to download and setup the required libraries for your platform.\n",
      "Skipping registering GPU devices...\n",
      "2022-06-01 18:02:55.558035: I tensorflow/core/platform/cpu_feature_guard.cc:193] This TensorFlow binary is optimized with oneAPI Deep Neural Network Library (oneDNN) to use the following CPU instructions in performance-critical operations:  AVX2 FMA\n",
      "To enable them in other operations, rebuild TensorFlow with the appropriate compiler flags.\n"
     ]
    },
    {
     "name": "stdout",
     "output_type": "stream",
     "text": [
      "1/1 [==============================] - 0s 58ms/step\n",
      "[1, 0, 0, 1, 1, 0, 0, 1, 0, 0, 0, 1, 0, 0, 0, 0, 0, 0, 0, 0, 0, 0, 0, 0]\n"
     ]
    }
   ],
   "source": [
    "model_nn = load(\"../data/neural_net.pkl\")\n",
    "model_nn_sc = load(\"../data/neural_net_scaler.pkl\")\n",
    "\n",
    "df = pd.DataFrame(data, columns=features)\n",
    "df1 = model_nn_sc.transform(df)\n",
    "y_pred = model_nn.predict(df1)\n",
    "print([np.argmin(x) for x in y_pred])"
   ]
  },
  {
   "cell_type": "markdown",
   "id": "90369d9e",
   "metadata": {},
   "source": [
    "## Deep NN Service"
   ]
  },
  {
   "cell_type": "code",
   "execution_count": 6,
   "id": "1066c2b1",
   "metadata": {},
   "outputs": [],
   "source": [
    "import requests"
   ]
  },
  {
   "cell_type": "code",
   "execution_count": 7,
   "id": "a59464d6",
   "metadata": {},
   "outputs": [
    {
     "name": "stdout",
     "output_type": "stream",
     "text": [
      "{'version': '0.1.0', 'date': '2022-06-02T00:02'}\n"
     ]
    }
   ],
   "source": [
    "url = \"http://127.0.0.1\"\n",
    "res = requests.get(url + \"/version\")\n",
    "print(res.json())"
   ]
  },
  {
   "cell_type": "code",
   "execution_count": 8,
   "id": "295bc68f",
   "metadata": {},
   "outputs": [
    {
     "name": "stdout",
     "output_type": "stream",
     "text": [
      "{'size': 10, 'data': [[27, 176727, 1, 13, 0, 0, 40], [56, 131608, 1, 10, 0, 0, 40], [55, 89182, 0, 8, 0, 0, 40], [47, 282830, 1, 12, 0, 0, 40], [32, 80557, 1, 9, 0, 0, 70], [69, 197080, 1, 8, 9386, 0, 60], [74, 272667, 0, 12, 0, 0, 20], [23, 183789, 1, 9, 0, 0, 40], [27, 506436, 0, 10, 0, 0, 40], [31, 264936, 0, 10, 0, 0, 40]]}\n"
     ]
    }
   ],
   "source": [
    "res = requests.get(url + \"/examples/10\")\n",
    "print(res.json())"
   ]
  },
  {
   "cell_type": "code",
   "execution_count": 9,
   "id": "b7ed3e09",
   "metadata": {},
   "outputs": [
    {
     "name": "stdout",
     "output_type": "stream",
     "text": [
      "{'size': 2, 'data': [1, 0, 0, 1, 1, 0, 0, 1, 0, 0, 0, 1, 0, 0, 0, 0, 0, 0, 0, 0, 0, 0, 0, 0]}\n"
     ]
    }
   ],
   "source": [
    "payload = {\"size\": 4, \"data\": [x.tolist() for x in data]}\n",
    "prediction = requests.post(url=url + \"/predict\", json=payload)\n",
    "print(prediction.json())"
   ]
  }
 ],
 "metadata": {
  "kernelspec": {
   "display_name": "Python 3 (ipykernel)",
   "language": "python",
   "name": "python3"
  },
  "language_info": {
   "codemirror_mode": {
    "name": "ipython",
    "version": 3
   },
   "file_extension": ".py",
   "mimetype": "text/x-python",
   "name": "python",
   "nbconvert_exporter": "python",
   "pygments_lexer": "ipython3",
   "version": "3.8.12"
  }
 },
 "nbformat": 4,
 "nbformat_minor": 5
}
