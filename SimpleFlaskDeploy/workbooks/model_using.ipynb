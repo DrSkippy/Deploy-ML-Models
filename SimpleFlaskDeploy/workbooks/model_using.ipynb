{
 "cells": [
  {
   "cell_type": "code",
   "execution_count": 1,
   "id": "6d8fcaf0",
   "metadata": {},
   "outputs": [],
   "source": [
    "from joblib import dump, load\n",
    "from model.training_data import *"
   ]
  },
  {
   "cell_type": "markdown",
   "id": "74e4277c",
   "metadata": {},
   "source": [
    "## Decision Tree"
   ]
  },
  {
   "cell_type": "code",
   "execution_count": 2,
   "id": "d75c6f57",
   "metadata": {},
   "outputs": [],
   "source": [
    "dt = load(\"../data/decision_tree.pkl\")"
   ]
  },
  {
   "cell_type": "code",
   "execution_count": 3,
   "id": "3e27e8b6",
   "metadata": {},
   "outputs": [
    {
     "name": "stdout",
     "output_type": "stream",
     "text": [
      "[[     64  209899       1      10       0       0      35]\n",
      " [     69  197288       1       9       0       0      35]\n",
      " [     48   58683       1      10       0       0      70]\n",
      " [     19  231688       1      10       0       0      20]\n",
      " [     57  237546       1      14       0       0      60]\n",
      " [     24   51973       0      13       0       0      20]\n",
      " [     24  197666       0      13       0       0      40]\n",
      " [     29  404998       1      11       0       0      90]\n",
      " [     53  161691       0      14    4865       0      40]\n",
      " [     30   54684       1      15       0       0      55]\n",
      " [     44  219591       1      10       0       0      40]\n",
      " [     63  201600       1      10       0    1902      60]\n",
      " [     43  281138       0       9       0       0      40]\n",
      " [     42 1097453       1      13       0       0      60]\n",
      " [     22  162667       1       9       0       0      50]\n",
      " [     76  178665       1       5       0       0      30]\n",
      " [     36   84294       1      13       0       0      72]\n",
      " [     18  123856       0       7       0       0      49]\n",
      " [     47  214800       1      11       0       0      40]\n",
      " [     25  245628       1      10       0       0      15]\n",
      " [     55  177557       1       9       0       0      40]\n",
      " [     48   75619       1       9       0       0      60]\n",
      " [     56   71388       0       5       0       0      40]\n",
      " [     53  255927       0      13       0       0      52]]\n"
     ]
    }
   ],
   "source": [
    "data = random_feature_sample_array(n=24)\n",
    "print(data)"
   ]
  },
  {
   "cell_type": "code",
   "execution_count": 4,
   "id": "e73d0d96",
   "metadata": {},
   "outputs": [
    {
     "name": "stdout",
     "output_type": "stream",
     "text": [
      "[' <=50K' ' <=50K' ' >50K' ' <=50K' ' >50K' ' <=50K' ' <=50K' ' <=50K'\n",
      " ' <=50K' ' <=50K' ' <=50K' ' >50K' ' <=50K' ' >50K' ' <=50K' ' <=50K'\n",
      " ' <=50K' ' <=50K' ' <=50K' ' <=50K' ' <=50K' ' <=50K' ' <=50K' ' <=50K']\n"
     ]
    },
    {
     "name": "stderr",
     "output_type": "stream",
     "text": [
      "/Users/s.hendrickson/Library/Caches/pypoetry/virtualenvs/deploymachinelearningmodelstoproduction-si-4VBv0PsN-py3.8/lib/python3.8/site-packages/sklearn/base.py:450: UserWarning: X does not have valid feature names, but DecisionTreeClassifier was fitted with feature names\n",
      "  warnings.warn(\n"
     ]
    }
   ],
   "source": [
    "prediction = dt.predict(data)\n",
    "print(prediction)"
   ]
  },
  {
   "cell_type": "markdown",
   "id": "e9a1608f",
   "metadata": {},
   "source": [
    "## Deep NN"
   ]
  },
  {
   "cell_type": "code",
   "execution_count": 5,
   "id": "e6db76c3",
   "metadata": {},
   "outputs": [
    {
     "name": "stderr",
     "output_type": "stream",
     "text": [
      "2022-06-01 16:59:42.904737: I tensorflow/core/platform/cpu_feature_guard.cc:193] This TensorFlow binary is optimized with oneAPI Deep Neural Network Library (oneDNN) to use the following CPU instructions in performance-critical operations:  AVX2 FMA\n",
      "To enable them in other operations, rebuild TensorFlow with the appropriate compiler flags.\n"
     ]
    },
    {
     "name": "stdout",
     "output_type": "stream",
     "text": [
      "1/1 [==============================] - 0s 87ms/step\n",
      "[0, 0, 0, 0, 1, 0, 0, 0, 0, 1, 0, 1, 0, 1, 0, 0, 0, 0, 0, 0, 0, 0, 0, 0]\n"
     ]
    }
   ],
   "source": [
    "model_nn = load(\"../data/neural_net.pkl\")\n",
    "model_nn_sc = load(\"../data/neural_net_scaler.pkl\")\n",
    "\n",
    "df = pd.DataFrame(data, columns=features)\n",
    "df1 = model_nn_sc.transform(df)\n",
    "y_pred = model_nn.predict(df1)\n",
    "print([np.argmin(x) for x in y_pred])"
   ]
  },
  {
   "cell_type": "markdown",
   "id": "90369d9e",
   "metadata": {},
   "source": [
    "## Deep NN Service"
   ]
  },
  {
   "cell_type": "code",
   "execution_count": 6,
   "id": "1066c2b1",
   "metadata": {},
   "outputs": [],
   "source": [
    "import requests"
   ]
  },
  {
   "cell_type": "code",
   "execution_count": 7,
   "id": "a59464d6",
   "metadata": {},
   "outputs": [
    {
     "name": "stdout",
     "output_type": "stream",
     "text": [
      "{'version': '0.1.0', 'date': '2022-06-01T22:59'}\n"
     ]
    }
   ],
   "source": [
    "url = \"http://127.0.0.1\"\n",
    "res = requests.get(url + \"/version\")\n",
    "print(res.json())"
   ]
  },
  {
   "cell_type": "code",
   "execution_count": 8,
   "id": "295bc68f",
   "metadata": {},
   "outputs": [
    {
     "name": "stdout",
     "output_type": "stream",
     "text": [
      "{'size': 10, 'data': [[48, 65535, 1, 9, 0, 0, 50], [25, 212793, 1, 12, 0, 0, 50], [23, 170482, 1, 10, 0, 0, 45], [26, 267431, 0, 13, 0, 0, 20], [31, 274818, 0, 10, 0, 0, 40], [34, 157024, 0, 6, 0, 0, 20], [32, 187815, 1, 13, 0, 0, 45], [59, 114401, 0, 9, 0, 1504, 19], [24, 132053, 0, 12, 0, 0, 35], [33, 142675, 1, 13, 0, 0, 30]]}\n"
     ]
    }
   ],
   "source": [
    "res = requests.get(url + \"/examples/10\")\n",
    "print(res.json())"
   ]
  },
  {
   "cell_type": "code",
   "execution_count": 9,
   "id": "b7ed3e09",
   "metadata": {},
   "outputs": [
    {
     "name": "stdout",
     "output_type": "stream",
     "text": [
      "{'size': 2, 'data': [1, 1, 1, 1, 0, 1, 1, 1, 1, 0, 1, 0, 1, 0, 1, 1, 1, 1, 1, 1, 1, 1, 1, 1]}\n"
     ]
    }
   ],
   "source": [
    "payload = {\"size\": 4, \"data\": [x.tolist() for x in data]}\n",
    "prediction = requests.post(url=url + \"/predict\", json=payload)\n",
    "print(prediction.json())"
   ]
  }
 ],
 "metadata": {
  "kernelspec": {
   "display_name": "Python 3 (ipykernel)",
   "language": "python",
   "name": "python3"
  },
  "language_info": {
   "codemirror_mode": {
    "name": "ipython",
    "version": 3
   },
   "file_extension": ".py",
   "mimetype": "text/x-python",
   "name": "python",
   "nbconvert_exporter": "python",
   "pygments_lexer": "ipython3",
   "version": "3.8.12"
  }
 },
 "nbformat": 4,
 "nbformat_minor": 5
}
