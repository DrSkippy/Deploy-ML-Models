{
 "cells": [
  {
   "cell_type": "code",
   "execution_count": 1,
   "id": "6d8fcaf0",
   "metadata": {},
   "outputs": [],
   "source": [
    "from joblib import dump, load\n",
    "from model.training_data import *"
   ]
  },
  {
   "cell_type": "markdown",
   "id": "74e4277c",
   "metadata": {},
   "source": [
    "## Decision Tree"
   ]
  },
  {
   "cell_type": "code",
   "execution_count": 2,
   "id": "d75c6f57",
   "metadata": {},
   "outputs": [],
   "source": [
    "dt = load(\"../data/decision_tree.pkl\")"
   ]
  },
  {
   "cell_type": "code",
   "execution_count": 3,
   "id": "3e27e8b6",
   "metadata": {},
   "outputs": [
    {
     "name": "stdout",
     "output_type": "stream",
     "text": [
      "[[    29 126060      0      9      0      0     40]\n",
      " [    24  59146      0     13      0      0     40]\n",
      " [    28 222442      1      9      0      0     51]\n",
      " [    25 197871      1     13      0      0     50]\n",
      " [    35 538583      1      7   3674      0     40]\n",
      " [    30 263150      0      9      0      0     20]\n",
      " [    23 340432      1      9      0      0     40]\n",
      " [    67 222899      0     11      0      0     40]\n",
      " [    28 399123      1      9      0      0     40]\n",
      " [    21 298342      1     10      0      0     40]\n",
      " [    27 301514      1     10      0      0     40]\n",
      " [    46 201595      1      9      0      0     70]\n",
      " [    60 288684      1      3      0      0     40]\n",
      " [    44  27242      1     12      0      0     40]\n",
      " [    51 392668      1     16  15024      0     84]\n",
      " [    30 243841      0      9      0      0     40]\n",
      " [    56  70857      1      9      0      0     40]\n",
      " [    22 396895      1      3      0      0     35]\n",
      " [    36 194630      0     10      0      0     40]\n",
      " [    39 199816      1      9      0      0     50]\n",
      " [    25  86872      1      9      0      0     40]\n",
      " [    36 199947      0     10      0      0     30]\n",
      " [    29 227026      1      9      0      0     40]\n",
      " [    24 744929      0      9      0      0     40]]\n"
     ]
    }
   ],
   "source": [
    "data = random_feature_sample_array(n=24)\n",
    "print(data)"
   ]
  },
  {
   "cell_type": "code",
   "execution_count": 4,
   "id": "bb21221c",
   "metadata": {},
   "outputs": [
    {
     "name": "stdout",
     "output_type": "stream",
     "text": [
      "{'Feature': 0, 'count': 1, 'mean': 2, 'std': 3, 'min': 4, '25%': 5, '50%': 6, '75%': 7, 'max': 8}\n",
      "['age', 48842.0, 38.64358543876172, 13.710509934443555, 17.0, 28.0, 37.0, 48.0, 90.0]\n",
      "['fnlwgt', 48842.0, 189664.13459727284, 105604.02542315728, 12285.0, 117550.5, 178144.5, 237642.0, 1490400.0]\n",
      "['sex-val', 48842.0, 0.6684820441423365, 0.47076356938045266, 0.0, 0.0, 1.0, 1.0, 1.0]\n",
      "['education-num', 48842.0, 10.078088530363212, 2.5709727555922566, 1.0, 9.0, 10.0, 12.0, 16.0]\n",
      "['capital-gain', 48842.0, 1079.0676262233324, 7452.019057655394, 0.0, 0.0, 0.0, 0.0, 99999.0]\n",
      "['capital-loss', 48842.0, 87.50231358257237, 403.00455212435907, 0.0, 0.0, 0.0, 0.0, 4356.0]\n",
      "['hours-per-week', 48842.0, 40.422382375824085, 12.391444024252307, 1.0, 40.0, 40.0, 45.0, 99.0]\n"
     ]
    }
   ],
   "source": [
    "print(vkeys)\n",
    "print(\"\\n\".join([str(x) for x in vetting]))"
   ]
  },
  {
   "cell_type": "code",
   "execution_count": 5,
   "id": "c747a9c8",
   "metadata": {},
   "outputs": [
    {
     "name": "stdout",
     "output_type": "stream",
     "text": [
      "{'size': (24, 7), 'errors': [], 'warnings': ['feature fnlwgt value (59146.0) out of quartile range [117550.5, 237642.0] of training data in vector 1', 'feature fnlwgt value (538583.0) out of quartile range [117550.5, 237642.0] of training data in vector 4', 'feature fnlwgt value (263150.0) out of quartile range [117550.5, 237642.0] of training data in vector 5', 'feature fnlwgt value (340432.0) out of quartile range [117550.5, 237642.0] of training data in vector 6', 'feature fnlwgt value (399123.0) out of quartile range [117550.5, 237642.0] of training data in vector 8', 'feature fnlwgt value (298342.0) out of quartile range [117550.5, 237642.0] of training data in vector 9', 'feature fnlwgt value (301514.0) out of quartile range [117550.5, 237642.0] of training data in vector 10', 'feature fnlwgt value (288684.0) out of quartile range [117550.5, 237642.0] of training data in vector 12', 'feature fnlwgt value (27242.0) out of quartile range [117550.5, 237642.0] of training data in vector 13', 'feature fnlwgt value (392668.0) out of quartile range [117550.5, 237642.0] of training data in vector 14', 'feature fnlwgt value (243841.0) out of quartile range [117550.5, 237642.0] of training data in vector 15', 'feature fnlwgt value (70857.0) out of quartile range [117550.5, 237642.0] of training data in vector 16', 'feature fnlwgt value (396895.0) out of quartile range [117550.5, 237642.0] of training data in vector 17', 'feature fnlwgt value (86872.0) out of quartile range [117550.5, 237642.0] of training data in vector 20', 'feature fnlwgt value (744929.0) out of quartile range [117550.5, 237642.0] of training data in vector 23', 'feature education-num value (13.0) out of quartile range [9.0, 12.0] of training data in vector 1', 'feature education-num value (13.0) out of quartile range [9.0, 12.0] of training data in vector 3', 'feature education-num value (7.0) out of quartile range [9.0, 12.0] of training data in vector 4', 'feature education-num value (3.0) out of quartile range [9.0, 12.0] of training data in vector 12', 'feature education-num value (16.0) out of quartile range [9.0, 12.0] of training data in vector 14', 'feature education-num value (3.0) out of quartile range [9.0, 12.0] of training data in vector 17', 'feature capital-gain value (3674.0) out of quartile range [0.0, 0.0] of training data in vector 4', 'feature capital-gain value (15024.0) out of quartile range [0.0, 0.0] of training data in vector 14', 'feature hours-per-week value (51.0) out of quartile range [40.0, 45.0] of training data in vector 2', 'feature hours-per-week value (50.0) out of quartile range [40.0, 45.0] of training data in vector 3', 'feature hours-per-week value (20.0) out of quartile range [40.0, 45.0] of training data in vector 5', 'feature hours-per-week value (70.0) out of quartile range [40.0, 45.0] of training data in vector 11', 'feature hours-per-week value (84.0) out of quartile range [40.0, 45.0] of training data in vector 14', 'feature hours-per-week value (35.0) out of quartile range [40.0, 45.0] of training data in vector 17', 'feature hours-per-week value (50.0) out of quartile range [40.0, 45.0] of training data in vector 19', 'feature hours-per-week value (30.0) out of quartile range [40.0, 45.0] of training data in vector 21']}\n"
     ]
    }
   ],
   "source": [
    "res = vet_features(data)\n",
    "print(res)"
   ]
  },
  {
   "cell_type": "code",
   "execution_count": 6,
   "id": "e73d0d96",
   "metadata": {},
   "outputs": [
    {
     "name": "stdout",
     "output_type": "stream",
     "text": [
      "[' >50K' ' <=50K' ' <=50K' ' <=50K' ' <=50K' ' <=50K' ' <=50K' ' <=50K'\n",
      " ' <=50K' ' <=50K' ' >50K' ' <=50K' ' <=50K' ' <=50K' ' >50K' ' <=50K'\n",
      " ' <=50K' ' <=50K' ' <=50K' ' >50K' ' <=50K' ' <=50K' ' <=50K' ' <=50K']\n"
     ]
    },
    {
     "name": "stderr",
     "output_type": "stream",
     "text": [
      "/Users/s.hendrickson/Library/Caches/pypoetry/virtualenvs/deploymachinelearningmodelstoproduction-si-4VBv0PsN-py3.8/lib/python3.8/site-packages/sklearn/base.py:450: UserWarning: X does not have valid feature names, but DecisionTreeClassifier was fitted with feature names\n",
      "  warnings.warn(\n"
     ]
    }
   ],
   "source": [
    "prediction = dt.predict(data)\n",
    "print(prediction)"
   ]
  },
  {
   "cell_type": "markdown",
   "id": "e9a1608f",
   "metadata": {},
   "source": [
    "## Deep NN"
   ]
  },
  {
   "cell_type": "code",
   "execution_count": 7,
   "id": "e6db76c3",
   "metadata": {},
   "outputs": [
    {
     "name": "stderr",
     "output_type": "stream",
     "text": [
      "2022-06-02 13:16:28.080356: I tensorflow/core/platform/cpu_feature_guard.cc:193] This TensorFlow binary is optimized with oneAPI Deep Neural Network Library (oneDNN) to use the following CPU instructions in performance-critical operations:  AVX2 FMA\n",
      "To enable them in other operations, rebuild TensorFlow with the appropriate compiler flags.\n"
     ]
    },
    {
     "name": "stdout",
     "output_type": "stream",
     "text": [
      "1/1 [==============================] - 0s 93ms/step\n",
      "[0, 0, 0, 0, 0, 0, 0, 0, 0, 0, 0, 0, 0, 0, 1, 0, 0, 0, 0, 0, 0, 0, 0, 0]\n"
     ]
    }
   ],
   "source": [
    "model_nn = load(\"../data/neural_net.pkl\")\n",
    "model_nn_sc = load(\"../data/neural_net_scaler.pkl\")\n",
    "\n",
    "df = pd.DataFrame(data, columns=features)\n",
    "df1 = model_nn_sc.transform(df)\n",
    "y_pred = model_nn.predict(df1)\n",
    "print([np.argmin(x) for x in y_pred])"
   ]
  },
  {
   "cell_type": "markdown",
   "id": "90369d9e",
   "metadata": {},
   "source": [
    "## Deep NN Service"
   ]
  },
  {
   "cell_type": "code",
   "execution_count": 8,
   "id": "1066c2b1",
   "metadata": {},
   "outputs": [],
   "source": [
    "import requests"
   ]
  },
  {
   "cell_type": "code",
   "execution_count": 9,
   "id": "a59464d6",
   "metadata": {},
   "outputs": [
    {
     "name": "stdout",
     "output_type": "stream",
     "text": [
      "{'version': '0.1.0', 'date': '2022-06-02T19:16'}\n"
     ]
    }
   ],
   "source": [
    "url = \"http://127.0.0.1\"\n",
    "res = requests.get(url + \"/version\")\n",
    "print(res.json())"
   ]
  },
  {
   "cell_type": "code",
   "execution_count": 10,
   "id": "db2d0b73",
   "metadata": {},
   "outputs": [
    {
     "name": "stdout",
     "output_type": "stream",
     "text": [
      "{'size': 10, 'data': [[35, 338320, 1, 9, 0, 0, 50], [65, 150095, 1, 13, 0, 0, 40], [46, 116906, 0, 14, 0, 2258, 35], [35, 62669, 1, 10, 0, 0, 55], [23, 117606, 0, 13, 0, 0, 40], [34, 30673, 1, 14, 0, 0, 55], [68, 69249, 1, 9, 0, 0, 10], [54, 141663, 1, 9, 0, 0, 15], [50, 116211, 1, 15, 0, 0, 52], [39, 366757, 1, 9, 0, 0, 35]]}\n"
     ]
    }
   ],
   "source": [
    "res = requests.get(url + \"/examples/10\")\n",
    "print(res.json())"
   ]
  },
  {
   "cell_type": "code",
   "execution_count": 11,
   "id": "295bc68f",
   "metadata": {},
   "outputs": [],
   "source": [
    "payload = res.json()"
   ]
  },
  {
   "cell_type": "code",
   "execution_count": 12,
   "id": "bd7f95dc",
   "metadata": {},
   "outputs": [
    {
     "name": "stdout",
     "output_type": "stream",
     "text": [
      "{'size': [10, 7], 'errors': [], 'warnings': ['feature fnlwgt value (338320.0) out of quartile range [117550.5, 237642.0] of training data in vector 0', 'feature fnlwgt value (116906.0) out of quartile range [117550.5, 237642.0] of training data in vector 2', 'feature fnlwgt value (62669.0) out of quartile range [117550.5, 237642.0] of training data in vector 3', 'feature fnlwgt value (30673.0) out of quartile range [117550.5, 237642.0] of training data in vector 5', 'feature fnlwgt value (69249.0) out of quartile range [117550.5, 237642.0] of training data in vector 6', 'feature fnlwgt value (116211.0) out of quartile range [117550.5, 237642.0] of training data in vector 8', 'feature fnlwgt value (366757.0) out of quartile range [117550.5, 237642.0] of training data in vector 9', 'feature education-num value (13.0) out of quartile range [9.0, 12.0] of training data in vector 1', 'feature education-num value (14.0) out of quartile range [9.0, 12.0] of training data in vector 2', 'feature education-num value (13.0) out of quartile range [9.0, 12.0] of training data in vector 4', 'feature education-num value (14.0) out of quartile range [9.0, 12.0] of training data in vector 5', 'feature education-num value (15.0) out of quartile range [9.0, 12.0] of training data in vector 8', 'feature capital-loss value (2258.0) out of quartile range [0.0, 0.0] of training data in vector 2', 'feature hours-per-week value (50.0) out of quartile range [40.0, 45.0] of training data in vector 0', 'feature hours-per-week value (35.0) out of quartile range [40.0, 45.0] of training data in vector 2', 'feature hours-per-week value (55.0) out of quartile range [40.0, 45.0] of training data in vector 3', 'feature hours-per-week value (55.0) out of quartile range [40.0, 45.0] of training data in vector 5', 'feature hours-per-week value (10.0) out of quartile range [40.0, 45.0] of training data in vector 6', 'feature hours-per-week value (15.0) out of quartile range [40.0, 45.0] of training data in vector 7', 'feature hours-per-week value (52.0) out of quartile range [40.0, 45.0] of training data in vector 8', 'feature hours-per-week value (35.0) out of quartile range [40.0, 45.0] of training data in vector 9']}\n"
     ]
    }
   ],
   "source": [
    "res = requests.post(url=url + \"/vetter\", json=payload)\n",
    "print(res.json())"
   ]
  },
  {
   "cell_type": "code",
   "execution_count": 13,
   "id": "b7ed3e09",
   "metadata": {},
   "outputs": [
    {
     "name": "stdout",
     "output_type": "stream",
     "text": [
      "{'size': 24, 'data': [0, 0, 0, 0, 0, 0, 0, 0, 0, 0, 0, 0, 0, 0, 1, 0, 0, 0, 0, 0, 0, 0, 0, 0]}\n"
     ]
    }
   ],
   "source": [
    "payload = {\"size\": 4, \"data\": [x.tolist() for x in data]}\n",
    "prediction = requests.post(url=url + \"/predict\", json=payload)\n",
    "print(prediction.json())"
   ]
  }
 ],
 "metadata": {
  "kernelspec": {
   "display_name": "Python 3 (ipykernel)",
   "language": "python",
   "name": "python3"
  },
  "language_info": {
   "codemirror_mode": {
    "name": "ipython",
    "version": 3
   },
   "file_extension": ".py",
   "mimetype": "text/x-python",
   "name": "python",
   "nbconvert_exporter": "python",
   "pygments_lexer": "ipython3",
   "version": "3.8.12"
  }
 },
 "nbformat": 4,
 "nbformat_minor": 5
}
