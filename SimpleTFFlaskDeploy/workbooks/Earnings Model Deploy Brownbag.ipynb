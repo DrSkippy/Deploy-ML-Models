{
 "cells": [
  {
   "cell_type": "markdown",
   "id": "58bc799d",
   "metadata": {},
   "source": [
    "# Earnings Model Deploy\n",
    "\n",
    "2022 June 15\n",
    "\n",
    "## What should a deployed model do?\n",
    "\n",
    "1. Training. Trin or tune model based on example data set and business requirements\n",
    "1. Predict. Compute expected model ouputs based on novel input data (We refer to these as _predictions_ because they are potentially novel and their quality is provisional.)\n",
    "1. Data Validation. Verify validity of input data\n",
    "1. Model Performance. Provide metrics of model performance\n",
    "1. Provenance. Keep track of provencence in a string of computations, over time and over model execution\n",
    "1. Orchastration. Cooperate with other elements in the data pipeline\n",
    "1. Encapsulation. Encapsulate model functionality and optimized parameters in ways support iteration\n",
    "\n",
    "## Simple Example\n",
    "\n",
    "Deploy our Decision Tree model from last week to K8S as scaleable service with a Restful interface.\n",
    "\n",
    "### Training\n",
    "Offline, batch mode training. Pre-deployment of model.\n",
    "\n",
    "### Predict\n",
    "Batch prediction of earnings level on 1 or more rows of valid input demographic data.\n",
    "\n",
    "### Data Validation\n",
    "Use the training data to set statistical warnings we input data is out of bounds.\n",
    "\n",
    "### Model Performance \n",
    "Batch, post training and before deploy.\n",
    "\n",
    "### Provenance\n",
    "Model versioning. Minimal logging.\n",
    "\n",
    "### Orchestration\n",
    "K8s Servcie with 2 pods, K8s Ingress with NGINX loadbalancing.\n",
    "\n",
    "### Encapsulation\n",
    "Project in Github and deployed Docker image include data, validation data, model code and pickled model (parameters) by verion and build number."
   ]
  },
  {
   "cell_type": "markdown",
   "id": "e6f9d501",
   "metadata": {},
   "source": [
    "# Using the building blocks directly"
   ]
  },
  {
   "cell_type": "code",
   "execution_count": 1,
   "id": "ae8bd72a",
   "metadata": {},
   "outputs": [],
   "source": [
    "from joblib import dump, load\n",
    "from model.training_data import *"
   ]
  },
  {
   "cell_type": "code",
   "execution_count": 2,
   "id": "5a5b859e",
   "metadata": {},
   "outputs": [],
   "source": [
    "# Unpickle the model\n",
    "model = load(\"../data/decision_tree.pkl\")"
   ]
  },
  {
   "cell_type": "code",
   "execution_count": 3,
   "id": "6c125948",
   "metadata": {},
   "outputs": [
    {
     "name": "stdout",
     "output_type": "stream",
     "text": [
      "[[    36 110622      0     13      0      0      8]\n",
      " [    49 543922      1      9      0      0     42]\n",
      " [    56  67841      1      9      0      0     40]\n",
      " [    19 146189      0      9      0      0     78]\n",
      " [    23 186006      0      9      0      0     37]\n",
      " [    57 195176      1     14      0      0     80]\n",
      " [    24 291355      0     10      0      0     60]\n",
      " [    36 350103      1      9      0      0     40]\n",
      " [    23 107801      0     13      0      0     20]\n",
      " [    39 179016      1      9      0      0     40]\n",
      " [    62 197918      0      9      0      0     40]\n",
      " [    40 436493      1      9      0      0     25]\n",
      " [    20 103277      0     10      0      0     35]\n",
      " [    19 318061      0     10      0      0     80]\n",
      " [    40 180123      1      9      0      0     40]\n",
      " [    36 174308      1      7      0      0     40]\n",
      " [    28  46987      0     11   2174      0     36]\n",
      " [    24 320615      1      9      0   2205     40]\n",
      " [    23 124802      0     10      0      0     40]\n",
      " [    33 304833      1     13      0      0     45]\n",
      " [    27 169557      1      9   6849      0     40]\n",
      " [    38 223242      0     10      0      0     40]\n",
      " [    80  29441      1      4      0      0     15]\n",
      " [    42 178983      0     13      0      0     37]]\n"
     ]
    }
   ],
   "source": [
    "# Utility to give a random sample of the training data\n",
    "data = random_feature_sample_array(n=24)\n",
    "print(data)"
   ]
  },
  {
   "cell_type": "code",
   "execution_count": 4,
   "id": "ef2f46d3",
   "metadata": {},
   "outputs": [
    {
     "name": "stdout",
     "output_type": "stream",
     "text": [
      "['age', 48842.0, 38.64358543876172, 13.710509934443555, 17.0, 28.0, 37.0, 48.0, 90.0]\n",
      "['fnlwgt', 48842.0, 189664.13459727284, 105604.02542315728, 12285.0, 117550.5, 178144.5, 237642.0, 1490400.0]\n",
      "['sex-val', 48842.0, 0.6684820441423365, 0.47076356938045266, 0.0, 0.0, 1.0, 1.0, 1.0]\n",
      "['education-num', 48842.0, 10.078088530363212, 2.5709727555922566, 1.0, 9.0, 10.0, 12.0, 16.0]\n",
      "['capital-gain', 48842.0, 1079.0676262233324, 7452.019057655394, 0.0, 0.0, 0.0, 0.0, 99999.0]\n",
      "['capital-loss', 48842.0, 87.50231358257237, 403.00455212435907, 0.0, 0.0, 0.0, 0.0, 4356.0]\n",
      "['hours-per-week', 48842.0, 40.422382375824085, 12.391444024252307, 1.0, 40.0, 40.0, 45.0, 99.0]\n"
     ]
    }
   ],
   "source": [
    "# Utilities to read and access validation dataprint(vkeys)\n",
    "print(\"\\n\".join([str(x) for x in vetting]))"
   ]
  },
  {
   "cell_type": "code",
   "execution_count": 5,
   "id": "c63ef125",
   "metadata": {},
   "outputs": [
    {
     "name": "stdout",
     "output_type": "stream",
     "text": [
      "dict_keys(['size', 'errors', 'warnings'])\n"
     ]
    }
   ],
   "source": [
    "res = vet_features(data)\n",
    "print(res.keys())"
   ]
  },
  {
   "cell_type": "code",
   "execution_count": 6,
   "id": "1d0259cd",
   "metadata": {},
   "outputs": [
    {
     "name": "stdout",
     "output_type": "stream",
     "text": [
      "\n"
     ]
    }
   ],
   "source": [
    "# Training data, so no errors in our sample set (by definition)\n",
    "print(\"\\n\".join(res[\"errors\"]))"
   ]
  },
  {
   "cell_type": "code",
   "execution_count": 7,
   "id": "1264adc8",
   "metadata": {},
   "outputs": [
    {
     "name": "stdout",
     "output_type": "stream",
     "text": [
      "feature fnlwgt value (110622.0) out of quartile range [117550.5, 237642.0] of training data in vector 0\n",
      "feature fnlwgt value (543922.0) out of quartile range [117550.5, 237642.0] of training data in vector 1\n",
      "feature fnlwgt value (67841.0) out of quartile range [117550.5, 237642.0] of training data in vector 2\n",
      "feature fnlwgt value (291355.0) out of quartile range [117550.5, 237642.0] of training data in vector 6\n",
      "feature fnlwgt value (350103.0) out of quartile range [117550.5, 237642.0] of training data in vector 7\n",
      "feature fnlwgt value (107801.0) out of quartile range [117550.5, 237642.0] of training data in vector 8\n",
      "feature fnlwgt value (436493.0) out of quartile range [117550.5, 237642.0] of training data in vector 11\n",
      "feature fnlwgt value (103277.0) out of quartile range [117550.5, 237642.0] of training data in vector 12\n",
      "feature fnlwgt value (318061.0) out of quartile range [117550.5, 237642.0] of training data in vector 13\n",
      "feature fnlwgt value (46987.0) out of quartile range [117550.5, 237642.0] of training data in vector 16\n",
      "feature fnlwgt value (320615.0) out of quartile range [117550.5, 237642.0] of training data in vector 17\n",
      "feature fnlwgt value (304833.0) out of quartile range [117550.5, 237642.0] of training data in vector 19\n",
      "feature fnlwgt value (29441.0) out of quartile range [117550.5, 237642.0] of training data in vector 22\n",
      "feature education-num value (13.0) out of quartile range [9.0, 12.0] of training data in vector 0\n",
      "feature education-num value (14.0) out of quartile range [9.0, 12.0] of training data in vector 5\n",
      "feature education-num value (13.0) out of quartile range [9.0, 12.0] of training data in vector 8\n",
      "feature education-num value (7.0) out of quartile range [9.0, 12.0] of training data in vector 15\n",
      "feature education-num value (13.0) out of quartile range [9.0, 12.0] of training data in vector 19\n",
      "feature education-num value (4.0) out of quartile range [9.0, 12.0] of training data in vector 22\n",
      "feature education-num value (13.0) out of quartile range [9.0, 12.0] of training data in vector 23\n",
      "feature capital-gain value (2174.0) out of quartile range [0.0, 0.0] of training data in vector 16\n",
      "feature capital-gain value (6849.0) out of quartile range [0.0, 0.0] of training data in vector 20\n",
      "feature capital-loss value (2205.0) out of quartile range [0.0, 0.0] of training data in vector 17\n",
      "feature hours-per-week value (8.0) out of quartile range [40.0, 45.0] of training data in vector 0\n",
      "feature hours-per-week value (78.0) out of quartile range [40.0, 45.0] of training data in vector 3\n",
      "feature hours-per-week value (37.0) out of quartile range [40.0, 45.0] of training data in vector 4\n",
      "feature hours-per-week value (80.0) out of quartile range [40.0, 45.0] of training data in vector 5\n",
      "feature hours-per-week value (60.0) out of quartile range [40.0, 45.0] of training data in vector 6\n",
      "feature hours-per-week value (20.0) out of quartile range [40.0, 45.0] of training data in vector 8\n",
      "feature hours-per-week value (25.0) out of quartile range [40.0, 45.0] of training data in vector 11\n",
      "feature hours-per-week value (35.0) out of quartile range [40.0, 45.0] of training data in vector 12\n",
      "feature hours-per-week value (80.0) out of quartile range [40.0, 45.0] of training data in vector 13\n",
      "feature hours-per-week value (36.0) out of quartile range [40.0, 45.0] of training data in vector 16\n",
      "feature hours-per-week value (15.0) out of quartile range [40.0, 45.0] of training data in vector 22\n",
      "feature hours-per-week value (37.0) out of quartile range [40.0, 45.0] of training data in vector 23\n"
     ]
    }
   ],
   "source": [
    "# Quartiles give us a resonable way to start debugging when we see poor performance\n",
    "print(\"\\n\".join(res[\"warnings\"]))"
   ]
  },
  {
   "cell_type": "code",
   "execution_count": 8,
   "id": "04bac24c",
   "metadata": {},
   "outputs": [
    {
     "name": "stdout",
     "output_type": "stream",
     "text": [
      "[' <=50K' ' >50K' ' >50K' ' <=50K' ' <=50K' ' <=50K' ' <=50K' ' <=50K'\n",
      " ' <=50K' ' <=50K' ' <=50K' ' <=50K' ' <=50K' ' <=50K' ' <=50K' ' <=50K'\n",
      " ' <=50K' ' <=50K' ' <=50K' ' >50K' ' <=50K' ' <=50K' ' <=50K' ' <=50K']\n"
     ]
    },
    {
     "name": "stderr",
     "output_type": "stream",
     "text": [
      "/Users/s.hendrickson/Library/Caches/pypoetry/virtualenvs/deploymachinelearningmodelstoproduction-si-O4GGW7Z2-py3.8/lib/python3.8/site-packages/sklearn/base.py:450: UserWarning: X does not have valid feature names, but DecisionTreeClassifier was fitted with feature names\n",
      "  warnings.warn(\n"
     ]
    }
   ],
   "source": [
    "prediction = model.predict(data)\n",
    "print(prediction)"
   ]
  },
  {
   "cell_type": "markdown",
   "id": "de0d367f",
   "metadata": {},
   "source": [
    "# Create a Service"
   ]
  },
  {
   "cell_type": "code",
   "execution_count": 9,
   "id": "79c307f1",
   "metadata": {},
   "outputs": [
    {
     "name": "stdout",
     "output_type": "stream",
     "text": [
      "@app.route('/version')\r\n",
      "@app.route('/predict', methods=['POST'])\r\n",
      "@app.route('/example')\r\n",
      "@app.route('/examples/<n>')\r\n",
      "@app.route('/vetter', methods=[\"POST\"])\r\n"
     ]
    }
   ],
   "source": [
    "! cat ../model/model_serve.py | grep route"
   ]
  },
  {
   "cell_type": "code",
   "execution_count": 10,
   "id": "12e3a745",
   "metadata": {},
   "outputs": [
    {
     "name": "stdout",
     "output_type": "stream",
     "text": [
      "FROM python:3.8.12\r\n",
      "RUN apt update && apt upgrade -y\r\n",
      "\r\n",
      "ENV APP /model\r\n",
      "RUN mkdir $APP\r\n",
      "WORKDIR $APP\r\n",
      "\r\n",
      "RUN apt install make curl -y\r\n",
      "RUN pip install --upgrade pip\r\n",
      "\r\n",
      "# get and install poetry package manager\r\n",
      "RUN curl -sSL https://raw.githubusercontent.com/python-poetry/poetry/master/get-poetry.py | python\r\n",
      "ENV PATH /root/.poetry/bin:$PATH\r\n",
      "# set poetry so it does not use a virtual environment in deployment container\r\n",
      "RUN poetry config virtualenvs.create false\r\n",
      "\r\n",
      "ENV PYTHONPATH $APP\r\n",
      "COPY ./pyproject.toml ./poetry.lock $APP/\r\n",
      "RUN poetry install --no-dev\r\n",
      "\r\n",
      "COPY ./model $APP/\r\n",
      "RUN mkdir ./data\r\n",
      "COPY ./data /data\r\n",
      "\r\n",
      "ENTRYPOINT poetry run uwsgi --ini model_serve.ini"
     ]
    }
   ],
   "source": [
    "! cat ../Dockerfile"
   ]
  },
  {
   "cell_type": "code",
   "execution_count": 11,
   "id": "4a410c78",
   "metadata": {},
   "outputs": [
    {
     "name": "stdout",
     "output_type": "stream",
     "text": [
      "apiVersion: apps/v1\r\n",
      "kind: Deployment\r\n",
      "metadata:\r\n",
      "  name: earnings-model-service\r\n",
      "  labels:\r\n",
      "    app: earnings-model-service\r\n",
      "    tier: backend\r\n",
      "    version: v1\r\n",
      "spec:\r\n",
      "  selector:\r\n",
      "    matchLabels:\r\n",
      "      app: earnings-model-service\r\n",
      "  replicas: 2\r\n",
      "  template:\r\n",
      "    metadata:\r\n",
      "      labels:\r\n",
      "        app: earnings-model-service\r\n",
      "    spec:\r\n",
      "      containers:\r\n",
      "      - name: model-service\r\n",
      "        image: localhost:32000/earnings-model-server\r\n",
      "        ports:\r\n",
      "        - containerPort: 8080\r\n",
      "        env:\r\n",
      "        - name: APP_NAME\r\n",
      "          value: EARNINGS\r\n"
     ]
    }
   ],
   "source": [
    "! cat ../Deployment.yaml"
   ]
  },
  {
   "cell_type": "code",
   "execution_count": 12,
   "id": "c6801c16",
   "metadata": {},
   "outputs": [
    {
     "name": "stdout",
     "output_type": "stream",
     "text": [
      "Name:             k8s-ingress\r\n",
      "Labels:           <none>\r\n",
      "Namespace:        default\r\n",
      "Address:          127.0.0.1\r\n",
      "Ingress Class:    public\r\n",
      "Default backend:  <default>\r\n",
      "Rules:\r\n",
      "  Host        Path  Backends\r\n",
      "  ----        ----  --------\r\n",
      "  *           \r\n",
      "              /foo                   foo-app:8080 (10.1.118.82:8080,10.1.235.221:8080)\r\n",
      "              /bar                   bar-app:8080 (10.1.118.81:8080,10.1.235.222:8080)\r\n",
      "              /books/(.*)            book-service:8083 (10.1.36.215:8083,10.1.7.152:8083)\r\n",
      "              /ts-model/(.*)         ts-model-service:8085 (10.1.118.91:8085,10.1.7.168:8085)\r\n",
      "              /earnings-model/(.*)   earnings-model-service:8080 (10.1.7.167:8080,10.1.78.211:8080)\r\n",
      "Annotations:  nginx.ingress.kubernetes.io/proxy-connect-timeout: 160\r\n",
      "              nginx.ingress.kubernetes.io/proxy-next-upstream-timeout: 160\r\n",
      "              nginx.ingress.kubernetes.io/proxy-read-timeout: 160\r\n",
      "              nginx.ingress.kubernetes.io/proxy-send-timeout: 160\r\n",
      "              nginx.ingress.kubernetes.io/rewrite-target: /$1\r\n",
      "Events:       <none>\r\n"
     ]
    }
   ],
   "source": [
    "!kubectl describe ingress"
   ]
  },
  {
   "cell_type": "code",
   "execution_count": 13,
   "id": "dbd16ae1",
   "metadata": {},
   "outputs": [],
   "source": [
    "import requests"
   ]
  },
  {
   "cell_type": "code",
   "execution_count": 14,
   "id": "f2ac59b2",
   "metadata": {},
   "outputs": [
    {
     "name": "stdout",
     "output_type": "stream",
     "text": [
      "{'version': '0.1.0', 'date': '2022-06-14T21:48'}\n"
     ]
    }
   ],
   "source": [
    "url = \"http://192.168.127.8/earnings-model/\"\n",
    "res = requests.get(url + \"version\")\n",
    "print(res.json())"
   ]
  },
  {
   "cell_type": "code",
   "execution_count": 15,
   "id": "5330fb71",
   "metadata": {},
   "outputs": [
    {
     "name": "stdout",
     "output_type": "stream",
     "text": [
      "{'size': 20, 'data': [[36, 180150, 1, 8, 0, 0, 40], [20, 215495, 0, 10, 0, 0, 40], [71, 118119, 1, 10, 20051, 0, 50], [35, 123809, 0, 13, 15024, 0, 35], [75, 31195, 0, 9, 0, 0, 20], [30, 337908, 0, 12, 0, 0, 20], [57, 367334, 0, 9, 0, 0, 40], [33, 144064, 1, 13, 0, 0, 50], [29, 255187, 0, 10, 0, 0, 40], [23, 170070, 0, 8, 0, 0, 38], [24, 214542, 1, 7, 0, 0, 40], [20, 526734, 0, 9, 0, 0, 30], [36, 185394, 0, 9, 0, 0, 40], [44, 154993, 0, 10, 0, 0, 55], [41, 89226, 1, 9, 0, 0, 40], [49, 119565, 1, 14, 0, 0, 40], [31, 191001, 0, 9, 0, 0, 40], [34, 241259, 1, 9, 0, 0, 40], [45, 160599, 1, 12, 0, 0, 40], [30, 104052, 1, 9, 0, 1741, 42]]}\n"
     ]
    }
   ],
   "source": [
    "data_res = requests.get(url + \"examples/20\")\n",
    "print(data_res.json())"
   ]
  },
  {
   "cell_type": "code",
   "execution_count": 16,
   "id": "847cdd6b",
   "metadata": {},
   "outputs": [
    {
     "name": "stdout",
     "output_type": "stream",
     "text": [
      "feature fnlwgt value (31195.0) out of quartile range [117550.5, 237642.0] of training data in vector 4\n",
      "feature fnlwgt value (337908.0) out of quartile range [117550.5, 237642.0] of training data in vector 5\n",
      "feature fnlwgt value (367334.0) out of quartile range [117550.5, 237642.0] of training data in vector 6\n",
      "feature fnlwgt value (255187.0) out of quartile range [117550.5, 237642.0] of training data in vector 8\n",
      "feature fnlwgt value (526734.0) out of quartile range [117550.5, 237642.0] of training data in vector 11\n",
      "feature fnlwgt value (89226.0) out of quartile range [117550.5, 237642.0] of training data in vector 14\n",
      "feature fnlwgt value (241259.0) out of quartile range [117550.5, 237642.0] of training data in vector 17\n",
      "feature fnlwgt value (104052.0) out of quartile range [117550.5, 237642.0] of training data in vector 19\n",
      "feature education-num value (8.0) out of quartile range [9.0, 12.0] of training data in vector 0\n",
      "feature education-num value (13.0) out of quartile range [9.0, 12.0] of training data in vector 3\n",
      "feature education-num value (13.0) out of quartile range [9.0, 12.0] of training data in vector 7\n",
      "feature education-num value (8.0) out of quartile range [9.0, 12.0] of training data in vector 9\n",
      "feature education-num value (7.0) out of quartile range [9.0, 12.0] of training data in vector 10\n",
      "feature education-num value (14.0) out of quartile range [9.0, 12.0] of training data in vector 15\n",
      "feature capital-gain value (20051.0) out of quartile range [0.0, 0.0] of training data in vector 2\n",
      "feature capital-gain value (15024.0) out of quartile range [0.0, 0.0] of training data in vector 3\n",
      "feature capital-loss value (1741.0) out of quartile range [0.0, 0.0] of training data in vector 19\n",
      "feature hours-per-week value (50.0) out of quartile range [40.0, 45.0] of training data in vector 2\n",
      "feature hours-per-week value (35.0) out of quartile range [40.0, 45.0] of training data in vector 3\n",
      "feature hours-per-week value (20.0) out of quartile range [40.0, 45.0] of training data in vector 4\n",
      "feature hours-per-week value (20.0) out of quartile range [40.0, 45.0] of training data in vector 5\n",
      "feature hours-per-week value (50.0) out of quartile range [40.0, 45.0] of training data in vector 7\n",
      "feature hours-per-week value (38.0) out of quartile range [40.0, 45.0] of training data in vector 9\n",
      "feature hours-per-week value (30.0) out of quartile range [40.0, 45.0] of training data in vector 11\n",
      "feature hours-per-week value (55.0) out of quartile range [40.0, 45.0] of training data in vector 13\n"
     ]
    }
   ],
   "source": [
    "payload = data_res.json()\n",
    "valid_res = requests.post(url=url + \"vetter\", json=payload)\n",
    "print(\"\\n\".join(valid_res.json()[\"warnings\"]))"
   ]
  },
  {
   "cell_type": "code",
   "execution_count": 17,
   "id": "8e31f64a",
   "metadata": {},
   "outputs": [
    {
     "name": "stdout",
     "output_type": "stream",
     "text": [
      "{'size': 20, 'data': [0, 0, 1, 1, 0, 0, 0, 0, 0, 0, 0, 0, 0, 0, 0, 1, 0, 1, 1, 0]}\n"
     ]
    }
   ],
   "source": [
    "service_prediction = requests.post(url=url + \"predict\", json=payload)\n",
    "print(service_prediction.json())"
   ]
  },
  {
   "cell_type": "code",
   "execution_count": 18,
   "id": "349d6684",
   "metadata": {},
   "outputs": [
    {
     "name": "stdout",
     "output_type": "stream",
     "text": [
      "{'size': 24, 'data': [0, 1, 1, 0, 0, 0, 0, 0, 0, 0, 0, 0, 0, 0, 0, 0, 0, 0, 0, 1, 0, 0, 0, 0]}\n"
     ]
    }
   ],
   "source": [
    "payload = {\"size\": 24, \"data\": [x.tolist() for x in data]}\n",
    "service_prediction_compare = requests.post(url=url + \"predict\", json=payload)\n",
    "print(service_prediction_compare.json())"
   ]
  },
  {
   "cell_type": "code",
   "execution_count": 19,
   "id": "658ee493",
   "metadata": {},
   "outputs": [
    {
     "name": "stdout",
     "output_type": "stream",
     "text": [
      "[' <=50K' ' >50K' ' >50K' ' <=50K' ' <=50K' ' <=50K' ' <=50K' ' <=50K'\n",
      " ' <=50K' ' <=50K' ' <=50K' ' <=50K' ' <=50K' ' <=50K' ' <=50K' ' <=50K'\n",
      " ' <=50K' ' <=50K' ' <=50K' ' >50K' ' <=50K' ' <=50K' ' <=50K' ' <=50K']\n"
     ]
    }
   ],
   "source": [
    "print(prediction)"
   ]
  }
 ],
 "metadata": {
  "kernelspec": {
   "display_name": "Python 3 (ipykernel)",
   "language": "python",
   "name": "python3"
  },
  "language_info": {
   "codemirror_mode": {
    "name": "ipython",
    "version": 3
   },
   "file_extension": ".py",
   "mimetype": "text/x-python",
   "name": "python",
   "nbconvert_exporter": "python",
   "pygments_lexer": "ipython3",
   "version": "3.8.12"
  }
 },
 "nbformat": 4,
 "nbformat_minor": 5
}
